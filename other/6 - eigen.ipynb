{
 "cells": [
  {
   "cell_type": "markdown",
   "id": "f86d9263-f106-4b81-89b6-ee215b9f3894",
   "metadata": {
    "id": "C8eXA81-AvOd"
   },
   "source": [
    "# Eigen$[x]$\n",
    "where $ [x]  \\in  \\{\\rm{vector, value, faces,...}\\}$"
   ]
  },
  {
   "attachments": {},
   "cell_type": "markdown",
   "id": "f075e50f-7d5f-415d-8e3f-5e09cac1c3b1",
   "metadata": {
    "id": "DshsdNisGOTv"
   },
   "source": [
    "### **What** are eigenvectors and eigenvalues?\n",
    "> One of the most widely used kinds of matrix decomposition is called eigendecomposition, in which we decompose a matrix into a set of eigenvectors and eigenvalues. *Page 42, Deep Learning, 2016.*\n",
    "\n",
    "Eigendecomposition of a matrix is a type of decomposition that involves decomposing a **square** ($n \\times n$) matrix into a **set** of *eigenvectors* and *eigenvalues*.\n",
    "\n",
    "A vector $\\rm{x}$ is an eigenvector of a matrix $A$ if it satisfies the following equation.\n",
    "\n",
    "$$\n",
    "A\\rm{x} = \\lambda \\rm{x} \\tag{E.1}\n",
    "$$\n",
    "\n",
    "This is called the eigenvalue equation, where $A$ is the parent square matrix that we are decomposing, $x$ is the eigenvector of the matrix, and $\\lambda$ is the lowercase Greek letter lambda and represents the eigenvalue scalar.\n",
    "\n",
    "This can also be rearranged into\n",
    "\n",
    "$$\n",
    "(A-\\lambda I)\\rm{x} = 0 \\tag{E.2}\n",
    "$$\n",
    "\n",
    "Where $I$ is the square identity matrix ($1$s in its main diagonal and $0$s in every other entry) with the same dimensions as $A$. \n",
    "\n",
    "The corresponding linear map is the identity map. For any $n \\times n$ matrix $A$, we have $AI = IA = A$. The inverse $A^{-1}$ of $A$ is the unique matrix such that $AA^{-1} = A^{-1}A = I$.\n",
    "\n",
    "$$\\mathbf{I} = \\left.\\left( \n",
    "                  \\vphantom{\\begin{array}{c}1\\\\1\\\\1\\\\1\\\\1\\end{array}}\n",
    "                  \\smash{\\underbrace{\n",
    "                      \\begin{array}{ccccc}\n",
    "                             1&0&0&\\cdots &0\\\\\n",
    "                             0&1&0&\\cdots &0\\\\\n",
    "                             0&0&1&\\cdots &0\\\\\n",
    "                             \\vdots&&&\\ddots&\\\\\n",
    "                             0&0&0&\\cdots &1\n",
    "                      \\end{array}\n",
    "                      }_{n\\text{ columns}}}\n",
    "              \\right)\\right\\}\n",
    "              \\,n\\text{ rows}\n",
    "$$"
   ]
  },
  {
   "cell_type": "markdown",
   "id": "bf081adc-359d-47f8-93b7-d052b6385009",
   "metadata": {
    "id": "as77YuNwHO0e"
   },
   "source": [
    "\n",
    "### But **why** should I care?\n",
    "> Almost all vectors change direction, when they are multiplied by A. Certain exceptional vectors x are in the same direction as Ax. Those are the “eigenvectors”. Multiply an eigenvector by A, and the vector Ax is the number lambda times the original x. […] The eigenvalue lambda (λ) tells whether the special vector x is stretched or shrunk or reversed or left unchanged – when it is multiplied by A.\n",
    "*— Page 289, Introduction to Linear Algebra, Fifth Edition, 2016.*\n",
    "\n",
    "![](https://upload.wikimedia.org/wikipedia/commons/thumb/5/58/Eigenvalue_equation.svg/2560px-Eigenvalue_equation.svg.png)\n",
    "> Matrix A acts by stretching the vector x, not changing its direction, so x is an eigenvector of A.\n",
    "\n",
    "A matrix could have one eigenvector and eigenvalue for each dimension of the parent matrix. Not all square matrices can be decomposed into eigenvectors and eigenvalues, and some can only be decomposed in a way that requires complex numbers. \n",
    "\n"
   ]
  },
  {
   "attachments": {},
   "cell_type": "markdown",
   "id": "84e3c336-3348-4b85-af9d-1d56ef942bfe",
   "metadata": {
    "id": "5N-t6_pEHNrQ"
   },
   "source": [
    "### Okay, show me **how**\n",
    "In order to determine the eigenvectors of a matrix, you must first determine the eigenvalues. \n",
    "\n",
    "Non-trivial solutions exist only if the matrix ($A-\\lambda I$) is singular which means $\\det(A-\\lambda I) = 0$. Where $\\det(M)$ or $|M|$ is the [determinant](https://en.wikipedia.org/wiki/Determinant) of the matrix.\n",
    "\n",
    "Therefore eigenvalues of $A$ are roots of the [characteristic polynomial](https://en.wikipedia.org/wiki/Characteristic_polynomial)\n",
    "\n",
    "$$\n",
    "p(\\lambda) = \\det(A-\\lambda I) \\tag{E.3}\n",
    "$$\n",
    "\n"
   ]
  },
  {
   "cell_type": "markdown",
   "id": "5712f04e-615b-442f-afb7-c6bd91594498",
   "metadata": {
    "id": "DGU7fv0eblZz"
   },
   "source": [
    "\n",
    "#### To find $\\lambda$ such that $\\det(A-\\lambda I) = 0$\n"
   ]
  },
  {
   "cell_type": "markdown",
   "id": "8d069f43-7bb4-47a3-824b-f72c9e7e823e",
   "metadata": {
    "id": "xsUwUROHbm9W"
   },
   "source": [
    "\n",
    "   if $A = \\begin{bmatrix}\n",
    "                             a_{11}&a_{12}\\\\\n",
    "                             a_{21}&a_{22}\n",
    "                      \\end{bmatrix}$\n",
    "   \n",
    "   i.e. $A$ is a $2 \\times 2$ matrix, \n",
    "   \n",
    "   then\n",
    "\n",
    "   $\\lambda I = \\begin{bmatrix}\n",
    "                             \\lambda&0\\\\\n",
    "                             0&\\lambda\n",
    "                      \\end{bmatrix}$ \n",
    "\n",
    "   therefore \n",
    "\n",
    "   $\\begin{align} A &- \\lambda I & &= \\\\\n",
    "   \\begin{bmatrix}\n",
    "                             a_{11}&a_{12}\\\\\n",
    "                             a_{21}&a_{22}\n",
    "                      \\end{bmatrix} &- \n",
    "                      \\begin{bmatrix}\n",
    "                             \\lambda&0\\\\\n",
    "                             0&\\lambda\n",
    "                      \\end{bmatrix} & &= \n",
    "                      \\begin{bmatrix}\n",
    "                             a_{11}-\\lambda&a_{12}\\\\\n",
    "                             a_{21}&a_{22}-\\lambda\n",
    "                      \\end{bmatrix}\n",
    "                      \\end{align}$\n",
    "\n",
    "   the determinant of which is \n",
    "\n",
    "   $\\begin{align}\\begin{vmatrix}\n",
    "                             a_{11}-\\lambda&a_{12}\\\\\n",
    "                             a_{21}&a_{22}-\\lambda\n",
    "                      \\end{vmatrix} &= (a_{11}-\\lambda) \\cdot  (a_{22}-\\lambda)- a_{12} \\cdot a_{21}\\\\\n",
    "   &= \\lambda^2 - \\lambda (a_{11} + a_{22}) + a_{11} \\cdot a_{22} - a_{12} \\cdot a_{21}\n",
    "   \\end{align}$\n",
    "\n",
    "   finding the roots of the determinant (characteristic polynomial) gives us the eigenvalues. In this case for a $2 \\times 2 $ matrix, there are 2 roots $\\lambda_1$ and $\\lambda_2$. \n",
    "\n"
   ]
  },
  {
   "cell_type": "markdown",
   "id": "179e7b31-6684-424d-9c02-f9e1420e062f",
   "metadata": {
    "id": "CA6aiZzSKe0V"
   },
   "source": [
    "Once the eigenvalues of a matrix (A) have been found, we can find the eigenvectors by Gaussian Elimination.\n",
    "\n",
    "- STEP 1: For each eigenvalue λ, we have\n",
    "$(A − λI)\\rm{x} = 0$,\n",
    "where $\\rm{x}$ is the eigenvector associated with eigenvalue λ.\n",
    "- STEP 2: Find $\\rm{x}$ by [Gaussian elimination](https://en.wikipedia.org/wiki/Gaussian_elimination). That is, convert the augmented matrix\n",
    "$(A − λI: 0)$\n",
    "to [row echelon form](https://en.wikipedia.org/wiki/Row_echelon_form), and solve the resulting linear system by back substitution.\n",
    "\n",
    "see [this](https://www.scss.tcd.ie/Rozenn.Dahyot/CS1BA1/SolutionEigen.pdf) resource for more information.\n",
    "\n",
    "\n",
    "\n"
   ]
  },
  {
   "cell_type": "markdown",
   "id": "0edcf4c3-4819-40a3-a386-0aa108ad811b",
   "metadata": {
    "id": "FSfMaCsnkvWD"
   },
   "source": [
    "\n",
    "Q:\n",
    "Determine the **eigenvalues** and **eigenvectors** for \\begin{bmatrix}\n",
    "                             2&-3&0\\\\\n",
    "                             2&-5&0\\\\\n",
    "                             0&0&3\n",
    "                      \\end{bmatrix}\n",
    "\n",
    "*hint*\n",
    "\n",
    "1. There are 3 eigenvalues.\n",
    "1. The determinant for a $3 \\times 3$ matrix is\n",
    "\n",
    "   ![](https://wikimedia.org/api/rest_v1/media/math/render/svg/14f2f2a449d6d152ee71261e47551aa0a31c801e)\n",
    "\n",
    "\n",
    "\n"
   ]
  },
  {
   "cell_type": "code",
   "execution_count": null,
   "id": "bedf124f-b838-445a-a0b7-7b26a94dde02",
   "metadata": {
    "colab": {
     "background_save": true
    },
    "id": "ghfaE05VkybJ",
    "outputId": "542cfe58-5bc7-4fbe-96f2-42b951738b51"
   },
   "outputs": [],
   "source": [
    "#@title Solution { display-mode: \"form\" }\n",
    "print(f\"Eigenvalues (λ) are [3,1,-4]\")\n",
    "print(\"\"\"Eigenvectors are \n",
    "λ= 3, x=[ 0  0 1].T\n",
    "λ= 1, x=[ 3  1 2].T\n",
    "λ=-4, x=[0.5 1 0].T\n",
    "\"\"\")"
   ]
  },
  {
   "cell_type": "markdown",
   "id": "6baa0123-5266-4074-ba5b-a23410c763dc",
   "metadata": {
    "id": "kRiiQcWJSjMF"
   },
   "source": [
    "\n",
    "##### *Determinant*\n"
   ]
  },
  {
   "cell_type": "markdown",
   "id": "b5e81856-aecc-4904-8669-ece400aa7f29",
   "metadata": {
    "id": "PYXJfU2Ofgdp"
   },
   "source": [
    "\n",
    "The determinant encodes certain properties of the linear transformation described by the matrix. \n",
    "\n",
    "Geometrically, it can be viewed as the area/volume scaling factor of the linear transformation described by the matrix\n",
    "\n",
    "![](https://upload.wikimedia.org/wikipedia/commons/thumb/a/ad/Area_parallellogram_as_determinant.svg/440px-Area_parallellogram_as_determinant.svg.png)\n",
    "\n",
    "**$2 \\times 2$ matrix**\n",
    "\n",
    "![](https://wikimedia.org/api/rest_v1/media/math/render/svg/84a06831f59ecb179385f947303f3ef3b4a6a509)\n",
    "\n",
    "\n",
    "**$3 \\times 3$ matrix**\n",
    "\n",
    "![](https://wikimedia.org/api/rest_v1/media/math/render/svg/1e2b66aee07eda072fc4996c89915b0554220226)\n",
    "\n",
    "**$n \\times n$ matrix**\n",
    "\n",
    "The determinant of a matrix of arbitrary size can be defined by the [Leibniz formula](https://en.wikipedia.org/wiki/Leibniz_formula_for_determinants) or the [Laplace formula](https://en.wikipedia.org/wiki/Laplace_expansion).\n",
    "\n",
    "![](https://wikimedia.org/api/rest_v1/media/math/render/svg/6c70973175f00a8a18b80784dbeff28808093898)\n",
    "\n",
    "[*read more*](https://en.wikipedia.org/wiki/Determinant#n_%C3%97_n_matrices)"
   ]
  },
  {
   "cell_type": "markdown",
   "id": "a6b2859b-1818-489e-95e4-b8ae71719ce3",
   "metadata": {
    "id": "RyC2thOWO0P5"
   },
   "source": [
    "### Python to the rescue\n",
    "The function [`numpy.linalg.eig`](https://docs.scipy.org/doc/numpy/reference/generated/numpy.linalg.eig.html) computes eigenvalues and eigenvectors of a square matrix. `scipy.linalg.eig` **also** works.\n",
    "\n",
    "note: the returned vectors are *normalised* (<=1)"
   ]
  },
  {
   "cell_type": "markdown",
   "id": "574b2ba9-188c-4368-b79e-07b7bf615777",
   "metadata": {
    "id": "uCbf9eOzPV6-"
   },
   "source": [
    "Let's consider a simple example with a diagonal matrix:"
   ]
  },
  {
   "cell_type": "code",
   "execution_count": null,
   "id": "b1aaef2c-ae09-419f-a334-074881408bb8",
   "metadata": {
    "colab": {
     "background_save": true
    },
    "id": "MK2Rf3ZfPrBr",
    "outputId": "03ef745a-179b-44d9-f731-d25260a85ad1"
   },
   "outputs": [],
   "source": [
    "import numpy as np\n",
    "from numpy.linalg import eig\n",
    "import scipy.linalg as la\n",
    "# define matrix\n",
    "A = np.array([[1, 2, 3], [4, 5, 6], [7, 8, 9]])\n",
    "print(A)\n",
    "# calculate eigendecomposition\n",
    "values, vectors = eig(A)\n",
    "print(values)\n",
    "print(vectors)\n"
   ]
  },
  {
   "cell_type": "code",
   "execution_count": null,
   "id": "8299bbe7-cdc5-4a73-bca0-4c67deddaa9d",
   "metadata": {
    "colab": {
     "background_save": true
    },
    "id": "pji7mgCaQC-y",
    "outputId": "7d42a137-535b-4918-b4f0-19f06b52176d"
   },
   "outputs": [],
   "source": [
    "A = np.array([[1, -3, 3],\n",
    "              [3, -5, 3],\n",
    "              [6, -6, 4]])\n",
    "values, vectors = eig(A)\n",
    "print(values)\n",
    "print(vectors)\n",
    "print(np.allclose(A@vectors[:,0], values[0]*vectors[:,0]))"
   ]
  },
  {
   "cell_type": "code",
   "execution_count": null,
   "id": "abb6fc63-0bec-4cdb-bde3-11ffd4536726",
   "metadata": {},
   "outputs": [],
   "source": []
  }
 ],
 "metadata": {
  "kernelspec": {
   "display_name": "Python 3 (ipykernel)",
   "language": "python",
   "name": "python3"
  },
  "language_info": {
   "codemirror_mode": {
    "name": "ipython",
    "version": 3
   },
   "file_extension": ".py",
   "mimetype": "text/x-python",
   "name": "python",
   "nbconvert_exporter": "python",
   "pygments_lexer": "ipython3",
   "version": "3.9.6"
  }
 },
 "nbformat": 4,
 "nbformat_minor": 5
}
