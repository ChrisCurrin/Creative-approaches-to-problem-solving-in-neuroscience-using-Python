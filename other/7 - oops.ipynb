{
 "cells": [
  {
   "cell_type": "markdown",
   "id": "c0b6ea1c-cb57-4a07-962c-78185e3223f6",
   "metadata": {
    "id": "zH5X3bov9kUO",
    "tags": []
   },
   "source": [
    "# Object-Orientated Programming (OOP)\n",
    "\n",
    "Some consider OOP to be an oops because it is easy to be abused (everything becomes a class and is inherited, poluting a bunch of empty parent abstract classed) and can take longer to understand. However, once the code is understood, it *can* be easier to extend the programme. \n",
    "The OOP style is generally preferred for developing *libraries* as they encapsulate a lot of complexity from the user."
   ]
  },
  {
   "cell_type": "code",
   "execution_count": null,
   "id": "2846942e-c202-4462-a11c-8724eb574d61",
   "metadata": {
    "colab": {
     "background_save": true
    },
    "id": "eXCkHD1D-Tus",
    "outputId": "23a20264-7545-4fa4-de41-a028227f49dc"
   },
   "outputs": [],
   "source": [
    "\"\"\"\n",
    "Files should start with a multi-string comment to describe what it does and any \n",
    "appropriate licensing/authorship information. Try to limit lines in your code to a fixed width (e.g. 80) otherwise it starts becoming awkward for others to read the comment or code.\n",
    "\n",
    "This file is a Notebook that makes programming in Python (and other supported \n",
    "languages) more interactive and sometimes easier to develop.\n",
    "\n",
    "Authors: \n",
    "Christopher Brian Currin (https://www.github.com/chriscurrin)\n",
    "\"\"\""
   ]
  },
  {
   "cell_type": "code",
   "execution_count": null,
   "id": "ce030909-631f-4ed9-a7d6-115cbe4b2956",
   "metadata": {
    "colab": {
     "background_save": true
    },
    "id": "OfwLH3oXjGfq",
    "outputId": "2ab08e27-a102-423c-da94-351e04cd5f04"
   },
   "outputs": [],
   "source": [
    "\n",
    "class ObjectOrientatedObject(object):\n",
    "  \"\"\"This parent object should be inherited in objects that wish to have a \n",
    "  'foo'method.\n",
    "  \"\"\"\n",
    "  def __init__(self, passed_variable, *args, **kwargs):\n",
    "    \"\"\"To create an object (this line can be tested by the `doctest` module):\n",
    "    >>> ooo = ObjectOrientatedObject(\"ahh\")\n",
    "    ooo.object_variable == \"ahh\"\n",
    "    \n",
    "    Including *args and **kwargs are useful for class methods so that arguments\n",
    "    can be passed to parent and child methods more robustly.\n",
    "    \"\"\"\n",
    "    self.object_variable = passed_variable\n",
    "    self.__init()\n",
    "    \n",
    "  def __init(self):\n",
    "    \"\"\"\n",
    "    Method names starting with '__' are not autocompleted by created (also known\n",
    "    as 'instantiated') objects, and thus are useful names for private methods\n",
    "    that are only to be used within the class by other class methods.\n",
    "    This method initialises some objects to remove some logic from the main\n",
    "    __init__ method, making it clearer what relies on passed variables. \n",
    "    \"\"\"\n",
    "    self.class_list = []\n",
    "      \n",
    "  def foo(self):\n",
    "    # generally we don't want to print in an object.\n",
    "    print(\"foo has been called\")\n",
    "    \n",
    "  def bar(self):\n",
    "    \"\"\"Provide a stub for methods that *must* be implemented by child classes.\n",
    "    \"\"\"\n",
    "    raise NotImplementedError(\"implementation for future classes or versions\")\n",
    "    \n",
    "  def zoo(self):\n",
    "    \"\"\"Provide a stub for methods that *should* be implemented by child classes.\n",
    "    \"\"\"\n",
    "    pass\n",
    "    \n",
    "  def manipulate_data(self, more_str: str):\n",
    "    \"\"\"Object orientated programming often hides data manipulation in an object's\n",
    "    method such that it's not always clear what occurs when running the object.\n",
    "    \"\"\"\n",
    "    self.object_variable = more_str*2 + self.object_variable\n",
    "    self.class_list.append(more_str)\n",
    "    \n",
    "  def init_list(self, other_list: list) -> list:\n",
    "    \"\"\" The `other_list` is assigned to this classes `class_list` property.\n",
    "    However, the objects become linked such that changes to one affects the \n",
    "    other. To prevent this, we can use the `copy` module.\n",
    "    \"\"\"\n",
    "    self.class_list = other_list\n",
    "  \n",
    "# in notebooks, it can be useful to have some small test to check the class \n",
    "# works as expected.\n",
    "ooo = ObjectOrientatedObject(\"AHH!\")\n",
    "# is this clear?\n",
    "ooo.foo()\n",
    "\n",
    "print(ooo.object_variable)\n",
    "ooo.manipulate_data(\"OOO\")\n",
    "print(ooo.object_variable)\n",
    "\n",
    "try:\n",
    "  ooo.bar()\n",
    "except NotImplementedError as err:\n",
    "  print(err)"
   ]
  },
  {
   "cell_type": "code",
   "execution_count": null,
   "id": "841db635-6ff6-41fe-bd46-9d1580c517f6",
   "metadata": {
    "colab": {
     "background_save": true
    },
    "id": "wsEn7DjvJ8Lv",
    "outputId": "531fe800-47f6-47c7-9993-8715cb12a221"
   },
   "outputs": [],
   "source": [
    "class BetterOOP(ObjectOrientatedObject):\n",
    "\n",
    "  def __init__(self, *args, **kwargs):\n",
    "    super().__init__(*args,**kwargs)\n",
    "    \n",
    "  def foo(self) -> str:\n",
    "    return \"better foo has been called\"\n",
    "  \n",
    "  def bar(self):\n",
    "    return \"implemented function!\"\n",
    "  \n",
    "  def manipulate_data(self, *args) -> bool:\n",
    "    old_object = self.object_variable\n",
    "    super().manipulate_data(*args)\n",
    "    new_object = self.object_variable\n",
    "    return old_object\n",
    "  \n",
    "boop = BetterOOP(\"required by parent\")\n",
    "print(boop.foo())"
   ]
  },
  {
   "cell_type": "code",
   "execution_count": null,
   "id": "62be2163-e8e3-4df9-b196-35fd93aaa317",
   "metadata": {},
   "outputs": [],
   "source": []
  }
 ],
 "metadata": {
  "kernelspec": {
   "display_name": "Python 3 (ipykernel)",
   "language": "python",
   "name": "python3"
  },
  "language_info": {
   "codemirror_mode": {
    "name": "ipython",
    "version": 3
   },
   "file_extension": ".py",
   "mimetype": "text/x-python",
   "name": "python",
   "nbconvert_exporter": "python",
   "pygments_lexer": "ipython3",
   "version": "3.9.6"
  }
 },
 "nbformat": 4,
 "nbformat_minor": 5
}
