{
 "cells": [
  {
   "cell_type": "markdown",
   "id": "49d25afd-e716-4906-8320-392c015d4219",
   "metadata": {
    "id": "eFr7kXmQ9U2i",
    "jp-MarkdownHeadingCollapsed": true,
    "tags": []
   },
   "source": [
    "## Version Control\n",
    "![](https://madusudanan.com/images/xkcd-vc.jpg)\n"
   ]
  },
  {
   "cell_type": "markdown",
   "id": "404281b1-3c9d-48ee-86d4-64e5580d3914",
   "metadata": {
    "id": "go4ZwjkrZXa-"
   },
   "source": [
    "1. Go to https://github.com/ or https://bitbucket.org/ or https://gitlab.com/ and sign up for an account.\n",
    "\n",
    "1. create a new repository (\"repo\")\n",
    "\n",
    "1. Go to https://git-scm.com/downloads and follow the instructions to download git\n",
    "\n",
    "1. Open a Terminal (Windows 10/11: download [Windows Terminal](https://apps.microsoft.com/store/detail/windows-terminal/9N0DX20HK701))\n",
    "\n",
    "1. \"clone\" (download and create a local version) your repo from (2) using `git clone <repo url>`\n",
    "  > what is the difference between \n",
    "  \\\n",
    "  `git clone https://github.com/ChrisCurrin/comp_neuro_count_countries.git` \n",
    "  \\\n",
    "  and \n",
    "  \\\n",
    "  `git clone git@github.com:ChrisCurrin/comp_neuro_count_countries.git`"
   ]
  },
  {
   "cell_type": "markdown",
   "id": "123e79bc-7e0f-41d2-925c-54c2d479e05e",
   "metadata": {
    "id": "GKPQ6Lizb0-5"
   },
   "source": [
    "Here are some git commands for creating a repo and commit a file.\n",
    "\n",
    "> Note: the commands start with a bang (!) because we are in a notebook and git is a command prompt tool and not Python. Lines start with ! are passed to the underlying terminal/console for execution. In your own terminal, ignore the '!'s."
   ]
  },
  {
   "attachments": {},
   "cell_type": "markdown",
   "id": "bf190c12-36bc-41f0-ba81-a2b8db87e12d",
   "metadata": {
    "id": "1W9Zxlz5dF4m"
   },
   "source": [
    "If you've done `git clone ...` you don't need to `git init`"
   ]
  },
  {
   "cell_type": "code",
   "execution_count": null,
   "id": "5a2e83f6-6268-4b19-a136-488bd6b4b4c1",
   "metadata": {
    "colab": {
     "background_save": true
    },
    "id": "wwLxyWWb9XF9",
    "outputId": "8282a779-b759-4ccb-b6f8-55698c3bf3ff"
   },
   "outputs": [],
   "source": [
    "!git init"
   ]
  },
  {
   "cell_type": "code",
   "execution_count": null,
   "id": "fe632ae2-a827-42ce-a3ca-1ba186cca2c9",
   "metadata": {
    "colab": {
     "background_save": true
    },
    "id": "y5vshgEL9XUB",
    "outputId": "67300c41-ca80-4617-d9ce-e0f37aa00dd6"
   },
   "outputs": [],
   "source": [
    "!git status"
   ]
  },
  {
   "cell_type": "code",
   "execution_count": null,
   "id": "bc63f59c-773a-43f6-b5cc-83b317b76eef",
   "metadata": {
    "id": "_FLHUMt8aZnE"
   },
   "outputs": [],
   "source": [
    "# create file\n",
    "!touch Readme.md \n",
    "# add content\n",
    "!echo \"Readme\" >> Readme.md\n",
    "# read out content (can also use 'tail')\n",
    "!cat Readme.md"
   ]
  },
  {
   "cell_type": "code",
   "execution_count": null,
   "id": "25845d24-29c0-4bce-88dc-984b39e30a9a",
   "metadata": {
    "id": "z4--r-D3X9Pu"
   },
   "outputs": [],
   "source": [
    "# add file to version control (can also use * for all new files)\n",
    "!git add Readme.md\n",
    "!git status"
   ]
  },
  {
   "cell_type": "code",
   "execution_count": null,
   "id": "03937f73-24e5-47a0-8988-195323213304",
   "metadata": {
    "id": "vwRVJ88cxfzx"
   },
   "outputs": [],
   "source": [
    "# do a config for git so it knows who we are\n",
    "# we only need to do this once\n",
    "!git config --global user.email \"you@example.com\"\n",
    "!git config --global user.name \"Your Name\""
   ]
  },
  {
   "cell_type": "code",
   "execution_count": null,
   "id": "0874a85e-53b7-4ab5-bd7f-6cf8f49f7722",
   "metadata": {
    "id": "GVtsuo81ZOVG"
   },
   "outputs": [],
   "source": [
    "# commit\n",
    "!git commit -m \"commiting files which are staged\""
   ]
  },
  {
   "cell_type": "markdown",
   "id": "1fd40d79-243b-4e3a-8ade-174010d72429",
   "metadata": {
    "id": "KUsmtHeRZXhB"
   },
   "source": [
    "Pushing and pulling won't work until you've set up an \"upstream\" repository (repo) on a website like https://github.com\n",
    "\n",
    "- `git push` = upload local files and changes to another location (e.g. a cloud service)\n",
    "- `git pull` = download (or `fetch`) changes from the cloud to your local machine and `merge` the changes (if there are conflicts where the same line has been changed, you will need to fix these before a merge is completed)"
   ]
  },
  {
   "cell_type": "code",
   "execution_count": null,
   "id": "b90848a9-f263-4ef7-9c14-bd84e04e3f8b",
   "metadata": {
    "id": "jItPSHnRaTwA"
   },
   "outputs": [],
   "source": [
    "!echo \"this is a version controlled file \" >> Readme.md\n",
    "!cat Readme.md"
   ]
  },
  {
   "cell_type": "code",
   "execution_count": null,
   "id": "20d31663-74ee-4a56-beb2-6eccb6c98d6c",
   "metadata": {
    "id": "QBnjRQfoakjc"
   },
   "outputs": [],
   "source": [
    "!git status"
   ]
  },
  {
   "cell_type": "code",
   "execution_count": null,
   "id": "7357d4bd-e3a2-4bb4-82e5-7b74b4632c7d",
   "metadata": {},
   "outputs": [],
   "source": []
  }
 ],
 "metadata": {
  "kernelspec": {
   "display_name": "Python 3 (ipykernel)",
   "language": "python",
   "name": "python3"
  },
  "language_info": {
   "codemirror_mode": {
    "name": "ipython",
    "version": 3
   },
   "file_extension": ".py",
   "mimetype": "text/x-python",
   "name": "python",
   "nbconvert_exporter": "python",
   "pygments_lexer": "ipython3",
   "version": "3.9.6"
  }
 },
 "nbformat": 4,
 "nbformat_minor": 5
}
