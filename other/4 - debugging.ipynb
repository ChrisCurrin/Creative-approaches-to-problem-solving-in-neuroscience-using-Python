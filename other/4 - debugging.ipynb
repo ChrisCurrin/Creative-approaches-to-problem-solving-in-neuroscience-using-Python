{
 "cells": [
  {
   "cell_type": "markdown",
   "id": "4fc09ef7-809e-4bf8-872c-174d57ee2259",
   "metadata": {
    "id": "1bt7jfjkfrQS",
    "slideshow": {
     "slide_type": "slide"
    },
    "tags": []
   },
   "source": [
    "## Detour for **debugging**: we all make mistakes\n",
    "\n",
    "![](https://images.unsplash.com/photo-1655720840699-67e72c0909d1?ixlib=rb-1.2.1&ixid=MnwxMjA3fDB8MHxwaG90by1wYWdlfHx8fGVufDB8fHx8&auto=format&fit=crop&w=1934&q=80)\n",
    "\n",
    "\n",
    "You may know all the **principles** of programming but **debugging** is the \"mini\" scientific process of \n",
    "\n",
    "***problem -> hypothesis -> solution -> implementation -> iteration***\n",
    "\n",
    "As with all of science, debugging requires creativity. Als as with science, the more you do the more errors you'll encounter (hopefully making fewer of the same ones).\n",
    "\n",
    "> **remember**: stay humble and ask (Google) for help!\n",
    "\n",
    "Let's learn how to identify some errors and fix them up\n",
    "\n",
    "![](https://i.redd.it/g0t9i4zdcbz01.jpg)\n"
   ]
  },
  {
   "cell_type": "markdown",
   "id": "44765c31-fd11-45ca-a8dd-44587b3c5ce7",
   "metadata": {
    "id": "seu7ivvrh4_v"
   },
   "source": [
    "There are principally 3 types of errors\n",
    "\n",
    "1. Syntax errors\n",
    "2. Run time errors\n",
    "3. Logic Errors\n",
    "\n",
    "> You may have encountered some or all of these already!\n",
    "\n",
    "Knowing **what** went wrong plays a large part in determining **how** to fix it.\n",
    "\n",
    "In this section, we will discuss the art of debugging - figuring out why something went unexpectedly (and how to fix it!)\n",
    "\n"
   ]
  },
  {
   "cell_type": "markdown",
   "id": "de9eed83-ca95-4ced-994a-5ffe59c4e663",
   "metadata": {
    "id": "_7sJvuPH9dmU"
   },
   "source": [
    "### 1. Syntax errors"
   ]
  },
  {
   "cell_type": "markdown",
   "id": "2d7335bf-5ae9-4d26-a395-822f588f48b4",
   "metadata": {
    "id": "ivfwP8GR9hQt"
   },
   "source": [
    "\"a syntax error is an error in the syntax of a sequence of characters or tokens that is intended to be written in a particular programming language.\"\n",
    "\n",
    "syntax - the structure of statements in a computer language.\n",
    "\n",
    "Each language has it's own syntax and _grammar_ that it expects the programmer to follow. Violation of this expectation results in an error.\n",
    "\n"
   ]
  },
  {
   "cell_type": "markdown",
   "id": "b3d6d816-87b9-44c6-a8da-272141d6f17a",
   "metadata": {
    "id": "TyveDXl0_pkQ"
   },
   "source": [
    "Syntax errors can sometimes be the most uninformative.\n",
    "\n",
    "But at least the program will fail quickly!\n",
    "\n",
    "In recent years, python has gotten better at error messages. Python 3.10 in particular has made it much easier, but this is not guaranteed for our purposes."
   ]
  },
  {
   "cell_type": "markdown",
   "id": "58237e45-831f-46a8-81fe-619d7515f828",
   "metadata": {
    "id": "4aY96F4BBBKm"
   },
   "source": [
    "### 2. Run time errors\n",
    "\n",
    "Called such because these occur when we **run the code**. \n",
    "\n",
    "This is a common type of error in Python that tends to only emerge when a specific portion of the code is executed in an unexpected manner with the unexepected arguments."
   ]
  },
  {
   "cell_type": "markdown",
   "id": "f93fba79-a574-4f87-bb5f-018340f9cd54",
   "metadata": {
    "id": "Kh8N-GDhDzRR"
   },
   "source": [
    "This is where a **debugger** comes in useful!\n",
    "\n",
    "Debuggers come built-in for most IDEs (integrated developer environments) and make it easy to step through code line-by-line to see where, why, and how things go wrong.\n",
    "\n",
    "> python also has a nifty built-in debugger you can use pretty much anywhere called `pdb` but we won't be working with it now.\n",
    "\n",
    "```python\n",
    "# this an example block of code for how to use pdb\n",
    "import pdb\n",
    "a_var = \"1\"\n",
    "pdb.set_trace() # this opens the debugger\n",
    "# display the final result\n",
    "print(a_var)\n",
    "```"
   ]
  },
  {
   "cell_type": "markdown",
   "id": "ebed0255-f8e4-4abb-9713-ec39ebd05cf4",
   "metadata": {
    "id": "9QhKaqE6d5cA"
   },
   "source": [
    "in the meantime, let's work with tools we always have\n",
    "\n",
    "1. `print` (or `logging`) - see how far the program got\n",
    "1. `help` - see what is expected/helpful\n",
    "1. `dir` - see what is possible\n",
    "1. hover over the method! Colab notebooks and many IDEs support this approach.\n",
    "\n",
    "For `help` and `dir` you can ignore methods and attributes that start with `__`. You'll learn to read these with time."
   ]
  },
  {
   "cell_type": "code",
   "execution_count": null,
   "id": "8fcf197b-391f-45a4-9877-f2030ded78d4",
   "metadata": {
    "id": "kCndMNIgh4XH"
   },
   "outputs": [],
   "source": [
    "# let's use help on something we've used before\n",
    "help(range)"
   ]
  },
  {
   "cell_type": "code",
   "execution_count": null,
   "id": "41d475f6-5bd8-462d-a423-83b59a19f6a5",
   "metadata": {
    "id": "mLZrSgvYinkj"
   },
   "outputs": [],
   "source": [
    "# and dir... (similar to help but without context)\n",
    "dir(range)"
   ]
  },
  {
   "cell_type": "code",
   "execution_count": null,
   "id": "4a232cf9-a37e-4bfc-a6a3-84c2b042be6e",
   "metadata": {
    "id": "69l91EMwi6vb"
   },
   "outputs": [],
   "source": [
    "# in fact, we can use find out what dir does using help!\n",
    "help(dir)"
   ]
  },
  {
   "cell_type": "code",
   "execution_count": 1,
   "id": "c571d312-4a30-4ff1-a51d-c9fc293641e6",
   "metadata": {
    "id": "89qsvmdEjBUk"
   },
   "outputs": [
    {
     "name": "stdout",
     "output_type": "stream",
     "text": [
      "Help on _Helper in module _sitebuiltins object:\n",
      "\n",
      "class _Helper(builtins.object)\n",
      " |  Define the builtin 'help'.\n",
      " |  \n",
      " |  This is a wrapper around pydoc.help that provides a helpful message\n",
      " |  when 'help' is typed at the Python interactive prompt.\n",
      " |  \n",
      " |  Calling help() at the Python prompt starts an interactive help session.\n",
      " |  Calling help(thing) prints help for the python object 'thing'.\n",
      " |  \n",
      " |  Methods defined here:\n",
      " |  \n",
      " |  __call__(self, *args, **kwds)\n",
      " |      Call self as a function.\n",
      " |  \n",
      " |  __repr__(self)\n",
      " |      Return repr(self).\n",
      " |  \n",
      " |  ----------------------------------------------------------------------\n",
      " |  Data descriptors defined here:\n",
      " |  \n",
      " |  __dict__\n",
      " |      dictionary for instance variables (if defined)\n",
      " |  \n",
      " |  __weakref__\n",
      " |      list of weak references to the object (if defined)\n",
      "\n"
     ]
    }
   ],
   "source": [
    "# and help itself!\n",
    "help(help)"
   ]
  },
  {
   "cell_type": "code",
   "execution_count": 4,
   "id": "f2b8e038-ca7e-4e2f-ad1c-31c4ddd827ac",
   "metadata": {
    "id": "Jd74RV_ijrYp",
    "jupyter": {
     "source_hidden": true
    },
    "slideshow": {
     "slide_type": "skip"
    },
    "tags": []
   },
   "outputs": [],
   "source": [
    "#@title run me to be able to use `custom_help` { run: \"auto\", display-mode: \"form\" }\n",
    "run_me = True #@param {type:\"boolean\"}\n",
    "from collections import OrderedDict\n",
    "def custom_help(name, output=True):\n",
    "  help_txt = name.__doc__.replace('\\n','\\n\\t')\n",
    "  build_text = \"\"\n",
    "  if type(name) == type:\n",
    "    build_text += f\"{name.__name__}\\n\\t{help_txt}\\n\"\n",
    "  else:\n",
    "    build_text += f\"{name.__class__.__name__}\\n\\t{help_txt}\\n\"\n",
    "  atts = dir(name)\n",
    "  methods = OrderedDict()\n",
    "  data = OrderedDict()\n",
    "  for att in atts:\n",
    "    if att.startswith(\"__\"):\n",
    "      continue\n",
    "    doc = getattr(name, att).__doc__\n",
    "    if callable(getattr(name, att)):\n",
    "      methods[att] = doc.replace('\\n','\\n\\t')\n",
    "    else:\n",
    "      data[att] = doc.replace('\\n','\\n\\t') if doc is not None else doc\n",
    "  \n",
    "  if isinstance(type(name), BaseException):\n",
    "    return\n",
    "  if methods:\n",
    "    build_text += \"\\n\"\n",
    "    build_text += \"-\"*60\n",
    "    build_text += \"\\nMethods defined here:\\n\\n\"\n",
    "    for meth, doc in methods.items():\n",
    "      build_text += f\"{meth}\\n\\t{doc}\\n\\n\"\n",
    "  if data:\n",
    "    build_text += \"\\n\"\n",
    "    build_text += \"-\"*60\n",
    "    build_text += \"\\nData descriptors defined here:\\n\\n\"\n",
    "    for att, doc in data.items():\n",
    "      print_doc = f\"\\n\\t{doc}\" if doc is not None else \"\"\n",
    "      build_text += f\"{att}{print_doc}\\n\\n\"\n",
    "  if output:\n",
    "    print(build_text)\n",
    "  else:\n",
    "    return build_text"
   ]
  },
  {
   "cell_type": "code",
   "execution_count": 3,
   "id": "9d63eb7c-d1d6-4ff8-8888-f0416a341b14",
   "metadata": {
    "colab": {
     "base_uri": "https://localhost:8080/"
    },
    "id": "C8S6XpjlsVvR",
    "outputId": "4538c8a3-5418-42eb-d77c-6272ed796b24"
   },
   "outputs": [
    {
     "name": "stdout",
     "output_type": "stream",
     "text": [
      "range\n",
      "\trange(stop) -> range object\n",
      "\trange(start, stop[, step]) -> range object\n",
      "\t\n",
      "\tReturn an object that produces a sequence of integers from start (inclusive)\n",
      "\tto stop (exclusive) by step.  range(i, j) produces i, i+1, i+2, ..., j-1.\n",
      "\tstart defaults to 0, and stop is omitted!  range(4) produces 0, 1, 2, 3.\n",
      "\tThese are exactly the valid indices for a list of 4 elements.\n",
      "\tWhen step is given, it specifies the increment (or decrement).\n",
      "\n",
      "------------------------------------------------------------\n",
      "Methods defined here:\n",
      "\n",
      "count\n",
      "\trangeobject.count(value) -> integer -- return number of occurrences of value\n",
      "\n",
      "index\n",
      "\trangeobject.index(value) -> integer -- return index of value.\n",
      "\tRaise ValueError if the value is not present.\n",
      "\n",
      "\n",
      "------------------------------------------------------------\n",
      "Data descriptors defined here:\n",
      "\n",
      "start\n",
      "\n",
      "step\n",
      "\n",
      "stop\n",
      "\n",
      "\n"
     ]
    }
   ],
   "source": [
    "custom_help(range)"
   ]
  },
  {
   "cell_type": "code",
   "execution_count": null,
   "id": "5c9381f7-b595-4a42-852e-58c1a2bbd9bd",
   "metadata": {
    "colab": {
     "base_uri": "https://localhost:8080/",
     "height": 828
    },
    "id": "vmkCayWwsaoo",
    "outputId": "a0b9ae3f-c835-40af-8930-327c6506aef1"
   },
   "outputs": [],
   "source": [
    "custom_help(NameError)\n",
    "print(\"#\"*100)\n",
    "custom_help(TypeError)"
   ]
  },
  {
   "cell_type": "markdown",
   "id": "dadc7283-14a1-4d92-a40e-a0e84f0e5836",
   "metadata": {
    "id": "j_mM6S-bDD3x"
   },
   "source": [
    "### 3. Logic errors\n",
    "\n",
    "These are the hardest (and most frequent) errors because **there is no error message!**. They are errors in logic not code. \n",
    "\n",
    "Code is fast... but really dumb. The smarts are left to you!\n",
    "\n",
    "Does the code do what you expect!"
   ]
  },
  {
   "cell_type": "markdown",
   "id": "593ed7b6-5488-4dc2-afd6-c77430a64ed8",
   "metadata": {
    "id": "X4nV1vZGDaPg"
   },
   "source": [
    "There isn't a task for this section except to say you should research **[unit testing](https://docs.pytest.org/)** and related concepts."
   ]
  },
  {
   "cell_type": "markdown",
   "id": "04f78a6a-038c-48d4-8692-778556ffdea9",
   "metadata": {
    "id": "lTsSqluXS70C"
   },
   "source": [
    "### Tasks"
   ]
  },
  {
   "cell_type": "markdown",
   "id": "b131f204-ee23-4c6b-962b-b62673e056bb",
   "metadata": {
    "id": "yj_xM5KF_cB4"
   },
   "source": [
    "##### 1. Fix the **syntax errors**\n",
    "\n",
    "> run this cell, hover over the error and view the problem; what does it say?\n",
    "\n",
    "> can we gather information about what went wrong... and crucially, how to fix it!"
   ]
  },
  {
   "cell_type": "code",
   "execution_count": null,
   "id": "b6ee8041-0214-4995-86b1-8a2709729e0d",
   "metadata": {
    "id": "bW48zMWD9ceL"
   },
   "outputs": [],
   "source": [
    "# fix the syntax errors!\n",
    "# 1: dangling text\n",
    "this was meant to be a comment\n",
    "# 2: spaces in variables\n",
    "my var = \"my value\"\n",
    "# 3: assigning to a number\n",
    "1000 = \"one thousand\"\n",
    "# 4: starting with a number\n",
    "1_ver = 20\n",
    "# 5: reserved keywords (this has a particularly useless error message)\n",
    "for = \"assigned\"\n",
    "# can you think of more?\n"
   ]
  },
  {
   "cell_type": "markdown",
   "id": "4eb55be8-eed9-408a-ac8d-de38f1096b8e",
   "metadata": {
    "id": "_q6-Ws16VJi-"
   },
   "source": [
    "##### Fix the **Run time errors**\n",
    "\n",
    "> note the sorts of errors that crop up\n",
    "\n",
    "> if you're **really** struggling, comment out the line and move to the next problem"
   ]
  },
  {
   "cell_type": "code",
   "execution_count": null,
   "id": "b655ebe7-84ed-4417-b692-871fb72e27c6",
   "metadata": {
    "colab": {
     "base_uri": "https://localhost:8080/",
     "height": 235
    },
    "id": "6CfsfXaiS7GZ",
    "outputId": "70e503fb-8b64-422a-d8d2-d7539094ada0"
   },
   "outputs": [],
   "source": [
    "# we will talk more about lists later\n",
    "example_list = [2, \"elements\"] # DO NOT edit this line\n",
    "# only change the lines below\n",
    "example_list[2]   # hint: we start counting a list from 0\n",
    "example_list(2)   # hint: we index with hard brackets\n",
    "example_list(\"2\") # hint: 2 != \"2\"\n",
    "example_dict[2]   # hint: did we mis-type?\n",
    "example_list.two  # hint: lists do not have dynamic attributes "
   ]
  },
  {
   "cell_type": "markdown",
   "id": "09c8008b-ed7c-4866-80aa-edc4ae06d460",
   "metadata": {
    "id": "Jj3IYHgnbc86"
   },
   "source": [
    "#### Catching errors\n",
    "\n",
    "There are some nuances to dealing with exceptions.\n",
    "\n",
    "Python's general approach is that it is perfectly normal to catch exceptions instead of checking for everything beforehand.\n",
    "\n",
    "Here is some reading on exceptions: https://docs.python.org/3/tutorial/errors.html"
   ]
  },
  {
   "cell_type": "code",
   "execution_count": null,
   "id": "a1d59ef2",
   "metadata": {},
   "outputs": [],
   "source": [
    "try:\n",
    "    assert 1==0\n",
    "except AssertionError as e:\n",
    "    print(\"this should print if the assertion is false\")\n",
    "    # we can \"re-raise\" an error if we want to (but we don't have to)\n",
    "    raise e\n",
    "else:\n",
    "    print(\"this should print only if the assertion is true\")\n",
    "finally:\n",
    "    print(\"this should always print\")"
   ]
  }
 ],
 "metadata": {
  "kernelspec": {
   "display_name": "Python 3 (ipykernel)",
   "language": "python",
   "name": "python3"
  },
  "language_info": {
   "codemirror_mode": {
    "name": "ipython",
    "version": 3
   },
   "file_extension": ".py",
   "mimetype": "text/x-python",
   "name": "python",
   "nbconvert_exporter": "python",
   "pygments_lexer": "ipython3",
   "version": "3.9.6"
  }
 },
 "nbformat": 4,
 "nbformat_minor": 5
}
