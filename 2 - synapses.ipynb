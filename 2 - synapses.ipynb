{
 "cells": [
  {
   "cell_type": "markdown",
   "id": "6eea9b06-1b96-4ae4-b705-56eb810dfc3b",
   "metadata": {
    "id": "rE41i9p1wyNh",
    "slideshow": {
     "slide_type": "slide"
    }
   },
   "source": [
    "## Connecting the pieces: Synapses\n",
    "![lights](https://images.unsplash.com/photo-1556691421-cf15fe27a0b6?ixlib=rb-1.2.1&ixid=eyJhcHBfaWQiOjEyMDd9&auto=format&fit=crop&w=1366&&h=500&q=80)"
   ]
  },
  {
   "attachments": {},
   "cell_type": "markdown",
   "id": "85b7f4f3-d4d7-4c20-ba6e-c11fb773335e",
   "metadata": {
    "id": "pP2v_syUupPs",
    "slideshow": {
     "slide_type": "subslide"
    }
   },
   "source": [
    "Let's provide some *synaptic input* to our neuron.\n",
    "\n",
    "i.e. Let's implement $\\sum_{k}{I_k(t)}$\n",
    "\n",
    "$$\n",
    "I_{syn}(t) = g_{syn}(t) (V(t)−E_{syn}) \\tag{5}\n",
    "$$\n",
    "\n",
    "Note that $g_{syn}$ has 'lost' it's flat cap $\\bar{g}$ and gained a dependence on time $(t)$\n",
    "\n",
    "*not a problem*"
   ]
  },
  {
   "attachments": {},
   "cell_type": "markdown",
   "id": "7c76c5f1",
   "metadata": {
    "slideshow": {
     "slide_type": "subslide"
    }
   },
   "source": [
    "A simple choice for the time course of the synaptic conductance is an exponential decay\n",
    "\n",
    "$$\n",
    "g_{syn}(t) = \\sum_{s}^{S} \\bar g_{max} e^{−(t−t_{s})/τ} \\cdot Θ(t−t_{s}) \\tag{6}\n",
    "$$\n",
    "\n",
    "which can be viewed as conductance given a time point $t$ and all the incoming spike times $S$. "
   ]
  },
  {
   "cell_type": "markdown",
   "id": "603a23ca",
   "metadata": {
    "slideshow": {
     "slide_type": "fragment"
    }
   },
   "source": [
    "We can split this up into \n",
    "1. conductance given a time point $t$ and a presynaptic spike time $t_s$\n",
    "1. The sum of  for each spike time, which gives us the conductance given a time point\n",
    "\n",
    "$\\begin{aligned}\n",
    "&g_{syn}(t, t_{s}) = \\bar g_{max} e^{−(t−t_{s})/τ} \\cdot Θ(t−t_{s}) \\\\\n",
    "g_{syn}(t) = \\sum_{s}^{S} &g_{syn}(t, t_{s})\n",
    "\\end{aligned}$"
   ]
  },
  {
   "cell_type": "markdown",
   "id": "b8609245",
   "metadata": {
    "slideshow": {
     "slide_type": "fragment"
    }
   },
   "source": [
    "**don't freak out if this doesn't make sense** 🙀"
   ]
  },
  {
   "cell_type": "markdown",
   "id": "9e4bb46a",
   "metadata": {
    "slideshow": {
     "slide_type": "subslide"
    }
   },
   "source": [
    "\n",
    "- $\\tau$ is the **decay [time constant](https://en.wikipedia.org/wiki/Time_constant)** of the synapse (e.g. 5 ms).\n",
    "  > after 1 $\\tau$, a value will have decreased to $1/e \\approx 36.8 %$ of its initial value.\n",
    "\n",
    "  ![time constant](https://upload.wikimedia.org/wikipedia/commons/thumb/3/39/Series_RC_resistor_voltage.svg/230px-Series_RC_resistor_voltage.svg.png)\n",
    "- $t_{s}$ denotes the arrival time of a presynaptic action potential - $s$ is each presynaptic *spike*.\n",
    "- Θ(x) or $H(x)$ is the [Heaviside step function](https://en.wikipedia.org/wiki/Heaviside_step_function).\n",
    "\n",
    "  ![Heaviside step function](http://mathworld.wolfram.com/images/eps-gif/HeavisideStepFunction_900.gif)"
   ]
  },
  {
   "cell_type": "markdown",
   "id": "fe96016c-e419-42c1-a430-744bb4326dd2",
   "metadata": {
    "id": "ZCXRyW380ted",
    "slideshow": {
     "slide_type": "subslide"
    }
   },
   "source": [
    "Let's implement the Heaviside step function and introduce Python abilities, *viz.* **functions** (also known as **methods** but there is a small difference) and **conditionals**"
   ]
  },
  {
   "cell_type": "code",
   "execution_count": null,
   "id": "9620976b-7a53-409d-815d-eb087457c534",
   "metadata": {
    "id": "x7hGNZGQuEje",
    "slideshow": {
     "slide_type": "fragment"
    }
   },
   "outputs": [],
   "source": [
    "def heaviside(x):\n",
    "    \"\"\"A python method starts with 'def' (definition) followed by the method name \n",
    "    'heaviside', the *parameters* (here just 'x') for the method are in '(' ')'\n",
    "    followed by a ':' then an **indented** newline where the *method body* starts.\n",
    "\n",
    "    def <method name>(parameters):\n",
    "    indented next line\n",
    "    everything indented is part of the body\n",
    "\n",
    "    note this comment just below the method definition is in quotations and can be\n",
    "    multi-line.\n",
    "    \"\"\"\n",
    "    if x < 0:\n",
    "        print(0)\n",
    "    elif x > 0: # we could also write this as 0 < x because we are doing a *comparison*\n",
    "        print(1)\n",
    "    else: # only thing left is x being 0. could also write \"elif x==0\":\n",
    "        print(1/2)"
   ]
  },
  {
   "cell_type": "code",
   "execution_count": null,
   "id": "0b8e130e-4f1c-459f-8164-e102d1d39477",
   "metadata": {
    "colab": {
     "base_uri": "https://localhost:8080/"
    },
    "id": "gyXOcldd0PxS",
    "outputId": "eedc7e62-81af-4abb-df0e-bd78bba4f675",
    "slideshow": {
     "slide_type": "fragment"
    }
   },
   "outputs": [],
   "source": [
    "# test our method\n",
    "heaviside(-1000)  # should display 0\n",
    "heaviside(0)      # should display 0.5\n",
    "heaviside(0.1)    # should display 1"
   ]
  },
  {
   "cell_type": "markdown",
   "id": "3357ae26-bf97-429b-beff-3f9a25e1a371",
   "metadata": {
    "id": "k0mbotKJvpQ3",
    "slideshow": {
     "slide_type": "slide"
    }
   },
   "source": [
    "## Functions ⨕\n"
   ]
  },
  {
   "cell_type": "markdown",
   "id": "2fa17f31",
   "metadata": {
    "slideshow": {
     "slide_type": "fragment"
    }
   },
   "source": [
    "If there is a computation during your program's flow that you will be doing a bunch, functions help **abstract** the logic into more manageable bits. This **abstraction** *reduces complexity* and *increases efficiency*... in theory. "
   ]
  },
  {
   "cell_type": "markdown",
   "id": "943951d9",
   "metadata": {
    "slideshow": {
     "slide_type": "subslide"
    }
   },
   "source": [
    "So we want to change our logic we implemented from this\n",
    "\n",
    "![Half-max convention](https://wikimedia.org/api/rest_v1/media/math/render/svg/34f164d5bf42583f4f09a2871a3f589ff0a89d43)\n",
    "\n",
    "to this\n",
    "\n",
    "![regular](https://wikimedia.org/api/rest_v1/media/math/render/svg/f1783c84465f7a602fae566c34efa63f48c84212)\n",
    "\n",
    "\n",
    "Imagine we used the logic of the Heaviside function in a bunch of places. We'd have to find and replace each of these. But because we used a **function**, we can change our definition in one place."
   ]
  },
  {
   "cell_type": "markdown",
   "id": "46370cbf-8680-4c70-975e-7c42841fea24",
   "metadata": {
    "id": "P7aVd4RNuaF-",
    "slideshow": {
     "slide_type": "subslide"
    }
   },
   "source": [
    "While we are changing things, it's not a good idea to have `print` statements inside methods because they don't perform any useful logic. Instead, we want the **method** to provide us with a **value** back, which we can then display *if we want*. "
   ]
  },
  {
   "cell_type": "markdown",
   "id": "e02bf579",
   "metadata": {
    "slideshow": {
     "slide_type": "fragment"
    }
   },
   "source": [
    "If you want to use any names or values from inside the function, you need to **`return`** these names or a value directly (*a method does **not** return anything, functions do*)."
   ]
  },
  {
   "cell_type": "markdown",
   "id": "2de6f4ff",
   "metadata": {
    "slideshow": {
     "slide_type": "subslide"
    }
   },
   "source": [
    "Try this **before** running the next code block **and after**."
   ]
  },
  {
   "cell_type": "code",
   "execution_count": null,
   "id": "5f402f12",
   "metadata": {
    "slideshow": {
     "slide_type": "fragment"
    }
   },
   "outputs": [],
   "source": [
    "print(heaviside(1e9))\n",
    "# or\n",
    "h_offset = heaviside(1e-2)\n",
    "print(h_offset)"
   ]
  },
  {
   "cell_type": "code",
   "execution_count": null,
   "id": "250933b4-ab69-4e8a-8f39-2a9d007ca22e",
   "metadata": {
    "colab": {
     "base_uri": "https://localhost:8080/"
    },
    "id": "6Na015JMyLYr",
    "outputId": "9a539de5-b2f2-4405-9b7f-c8605cc2f1d6",
    "slideshow": {
     "slide_type": "subslide"
    }
   },
   "outputs": [],
   "source": [
    "def heaviside(x):\n",
    "    \"\"\"Heaviside step function which returns 1 when x is 0\"\"\"\n",
    "    if x < 0:\n",
    "        return 0\n",
    "    elif x >= 0: # or could use else:\n",
    "        return 1\n",
    "\n",
    "# test the method\n",
    "x = 0.1\n",
    "y=2\n",
    "answer = heaviside(y)\n",
    "print(f\"H({y}) = {answer}\")"
   ]
  },
  {
   "cell_type": "code",
   "execution_count": null,
   "id": "5c96c72f-75a4-4ed3-a2f9-a816e92f6370",
   "metadata": {
    "colab": {
     "base_uri": "https://localhost:8080/"
    },
    "id": "PWm7z851j7ai",
    "outputId": "252f258f-aadd-4480-e727-4e4ac0d3a84d",
    "slideshow": {
     "slide_type": "fragment"
    }
   },
   "outputs": [],
   "source": [
    "def heaviside(x):\n",
    "    \"\"\"Heaviside step function which returns True when x is 0 or greater, and \n",
    "    False otherwise\"\"\"\n",
    "    return x >= 0     # does this make sense to you? True == 1 and False == 0\n",
    "heaviside(90812)"
   ]
  },
  {
   "cell_type": "markdown",
   "id": "d7223380-b4e5-4eb6-b59a-b169db1ce2b6",
   "metadata": {
    "id": "cZ5OMIIsJwrG",
    "slideshow": {
     "slide_type": "slide"
    }
   },
   "source": [
    "## *parameters* and *arguments* 👉 👈\n"
   ]
  },
  {
   "cell_type": "markdown",
   "id": "624e6031",
   "metadata": {
    "id": "zVXU7Lvhuc8H",
    "slideshow": {
     "slide_type": "fragment"
    }
   },
   "source": [
    "When you define a method, you can have a number of variables in its definition (aka *declaration*) which can be used in the **method body**. These variables in the definition are known as **parameters** (`x` was a parameter in our `heaviside` declaration). "
   ]
  },
  {
   "cell_type": "markdown",
   "id": "27471c3d",
   "metadata": {
    "id": "zVXU7Lvhuc8H",
    "slideshow": {
     "slide_type": "fragment"
    }
   },
   "source": [
    "These **parameters** only exist within the method. Outside the method, no-one cares about them. The concept of variables being local to where they are defined (e.g. in a method) is known as **scope**."
   ]
  },
  {
   "cell_type": "markdown",
   "id": "7b70b5d0",
   "metadata": {
    "id": "zVXU7Lvhuc8H",
    "slideshow": {
     "slide_type": "fragment"
    }
   },
   "source": [
    "You may be asking the question then, why do we have `x` outside the function/method then?"
   ]
  },
  {
   "cell_type": "markdown",
   "id": "252362df",
   "metadata": {
    "id": "zVXU7Lvhuc8H",
    "slideshow": {
     "slide_type": "fragment"
    }
   },
   "source": [
    "Well, this `x` is an **argument** we *passed* to the function so it can use its value. The name of the argument could be anything (or you can pass a value directly)."
   ]
  },
  {
   "cell_type": "markdown",
   "id": "33afb4fc-e0a3-4061-abb1-0866fea14c63",
   "metadata": {
    "id": "zVXU7Lvhuc8H",
    "slideshow": {
     "slide_type": "fragment"
    }
   },
   "source": [
    "For our use case they had the same name which helps with *readability*, but this may not always be the case."
   ]
  },
  {
   "cell_type": "markdown",
   "id": "7b4632ea-1241-4810-87f6-6c59aab1b5b9",
   "metadata": {
    "id": "0Oy4p6x6jr6L",
    "slideshow": {
     "slide_type": "subslide"
    }
   },
   "source": [
    "**meta tips**\n",
    "\n",
    "hovering over a method reveals its signature - it's parameters and description (the text in `\"\"\" \"\"\"` at the top of a method.)\n",
    "\n",
    "`dir(<object>)` returns a list of methods which the object can call\n",
    "\n",
    "`help(<object>)` similarly works and combines the above 2"
   ]
  },
  {
   "cell_type": "code",
   "execution_count": null,
   "id": "b4256c54-e008-4c09-9a4f-4145015db96d",
   "metadata": {
    "colab": {
     "base_uri": "https://localhost:8080/"
    },
    "id": "xPFik7xaCqQS",
    "outputId": "59b71b34-b232-4e61-9341-d9c8f7bcbcdb",
    "slideshow": {
     "slide_type": "fragment"
    }
   },
   "outputs": [],
   "source": [
    "help(heaviside)"
   ]
  },
  {
   "cell_type": "markdown",
   "id": "661cba95-528b-41e4-ad7d-4632e3998480",
   "metadata": {
    "id": "z9IZefnbyMsS",
    "slideshow": {
     "slide_type": "slide"
    }
   },
   "source": [
    "## Conditional expressions ⫚\n"
   ]
  },
  {
   "cell_type": "markdown",
   "id": "8596bcbe",
   "metadata": {
    "id": "M7kLiXblubcO",
    "slideshow": {
     "slide_type": "fragment"
    }
   },
   "source": [
    "If you want to branches in your logic, you can use Python's `if`, `elif`, `else` keywords with **comparison expressions** (`<expr>`)."
   ]
  },
  {
   "cell_type": "markdown",
   "id": "3c653e7c",
   "metadata": {
    "id": "M7kLiXblubcO",
    "slideshow": {
     "slide_type": "subslide"
    }
   },
   "source": [
    "The syntax is as follows:\n",
    "```\n",
    "if <expr1>:\n",
    "  <statement if expr1 is True>\n",
    "  <other statements>\n",
    "  <as many as you like>\n",
    "elif <expr2>:\n",
    "  <statement if expr1 is False but expr2 is True>\n",
    "elif <expr3>:\n",
    "  <statement if expr1 is False AND expr2 is False \n",
    "   but expr3 is True>\n",
    "...\n",
    "else:\n",
    "  <statement if nothing in the logic branch is True> \n",
    "```"
   ]
  },
  {
   "cell_type": "markdown",
   "id": "9fac166a-9d3e-43ef-8bd8-2f9096e26e3b",
   "metadata": {
    "id": "M7kLiXblubcO",
    "slideshow": {
     "slide_type": "subslide"
    }
   },
   "source": [
    "Things to keep in mind:\n",
    "1. You must **start** with `if`. A new `if` is a new *logic tree* (not a branch).\n",
    "1. You can have **many** `elif`s. `elif`is short for `else if` and means that the previous expressions have been been satisfied.\n",
    "1. You can end in `else`, but there must be only one if you do.\n",
    "1. `else if` won't work. "
   ]
  },
  {
   "attachments": {},
   "cell_type": "markdown",
   "id": "1d4f22db-7852-4e78-968a-93d9ac330cd8",
   "metadata": {
    "id": "ahdTrDriMYyM",
    "slideshow": {
     "slide_type": "slide"
    }
   },
   "source": [
    "## Implementing $g_{syn}$\n",
    "\n",
    "We are going to combine a bit of what we learnt to write the $g_{syn}$ equation (6).\n",
    "\n",
    "$$\n",
    "g_{syn}(t) = \\sum_{s} \\bar g_{max} e^{−(t−t_{s})/τ} \\cdot Θ(t−t_{s}) \\tag{6}\n",
    "$$\n",
    "\n"
   ]
  },
  {
   "cell_type": "code",
   "execution_count": null,
   "id": "a447323f-ee32-40f3-b148-5f76b8d0a687",
   "metadata": {
    "id": "3Eo9hIOCNhAe",
    "slideshow": {
     "slide_type": "subslide"
    }
   },
   "outputs": [],
   "source": [
    "e = 2.71828  # Euler's constant"
   ]
  },
  {
   "cell_type": "code",
   "execution_count": null,
   "id": "27f012f4",
   "metadata": {
    "slideshow": {
     "slide_type": "fragment"
    }
   },
   "outputs": [],
   "source": [
    "def g_syn(t, spk_t, g_max=50, tau=5):\n",
    "    \"\"\"Single exponential conductance decay using equation 6 \n",
    "    but limited to a single incoming signal (spk_t).\n",
    "    \"\"\"\n",
    "    # note that g_max is in nS\n",
    "    return g_max * e**(-(t-spk_t)/tau) * heaviside(t-spk_t)"
   ]
  },
  {
   "cell_type": "code",
   "execution_count": null,
   "id": "3930bb2d-813b-41ee-8db5-3dfae7b10570",
   "metadata": {
    "colab": {
     "base_uri": "https://localhost:8080/"
    },
    "id": "Dwm8iEdQDpmx",
    "outputId": "3fa1e410-dc66-47ba-b504-81e1f495ad2a",
    "slideshow": {
     "slide_type": "fragment"
    }
   },
   "outputs": [],
   "source": [
    "# test our function\n",
    "t = 15\n",
    "print(g_syn(t, 14, 100, 6))   # call with all arguments passed\n",
    "print(g_syn(t, 14, 100))      # argument 'tau' omitted, the default value is used\n",
    "print(g_syn(t, 14, tau=6))    # argument 'g_max' omitted and 'tau' explicitly provided\n",
    "print(g_syn(t, 14))           # both g_max and tau defaults used\n",
    "print(g_syn(t, spk_t=14, g_max=100, tau=6))"
   ]
  },
  {
   "cell_type": "markdown",
   "id": "045ad7b4-92d1-46a7-a118-d527885620ce",
   "metadata": {
    "id": "tqDzgXZ-STPe",
    "slideshow": {
     "slide_type": "subslide"
    }
   },
   "source": [
    "The main issue with this definition is that it only works for a single incoming signal (`spk_t`).\n",
    "\n"
   ]
  },
  {
   "cell_type": "markdown",
   "id": "b5841a1f-6390-4414-a957-e8dbc76be276",
   "metadata": {
    "id": "QVgyo7a4wbsQ",
    "slideshow": {
     "slide_type": "slide"
    }
   },
   "source": [
    "\n",
    "## Types ⌨️\n",
    "\n",
    "Up to now we have been dealing with\n",
    "- **`int`egers** (numbers with no decimal point) like `-1`, `0`, `2`, or `1000`\n",
    "- **`float`ing points** (aka real numbers with decimal point) like `e = 2.71828`\n",
    "- **`str`ings of characters** like `'this'` or `\"also this\"` or ```\"\"\"this which can span multiple lines\"\"\"```\n",
    "\n",
    "- [**`bool`ean**](https://techterms.com/definition/boolean) values which are either `True` or `False`. These arise from **comparisons** such as in **conditionals**. \n",
    "  \n",
    "  E.g. \n",
    "  \n",
    "  ```\n",
    "  a=1\n",
    "  b=2\n",
    "\n",
    "  if a>b:\n",
    "    print(\"a is bigger than b\")\n",
    "  else:\n",
    "    print(\"a is not bigger than b)\n",
    "\n",
    "  # the below is the same\n",
    "  c = a>b   # assign our comparison to a variable\n",
    "  print(c)  # displays 'False' in the console\n",
    "  if c:\n",
    "    print(\"a is bigger than b\")\n",
    "  else:\n",
    "    print(\"a is not bigger than b)\n",
    "  ```"
   ]
  },
  {
   "cell_type": "markdown",
   "id": "095c1b01-5e6e-466f-a459-fbf79adcff78",
   "metadata": {
    "id": "za14qhk3HyvE",
    "slideshow": {
     "slide_type": "slide"
    }
   },
   "source": [
    "### Aside: Boolean Logic ⊻\n",
    "Aka multiple comparisons.\n",
    "\n",
    "So far, we have been doing single comparisons at a time.\n",
    "\n",
    "If we want to perform multiple comparisons we use **`and`** or **`or`**. If we want to **negate** some logic we use **`not`**. Logic can be grouped with parentheses `(` `)`.\n"
   ]
  },
  {
   "cell_type": "code",
   "execution_count": null,
   "id": "51fa298f-3b30-4198-a933-adc17da8cc1c",
   "metadata": {
    "id": "3g2RtYmqHn_m",
    "slideshow": {
     "slide_type": "subslide"
    }
   },
   "outputs": [],
   "source": [
    "#@title Try display each of the 8 possibilities { run: \"auto\", vertical-output: true, display-mode: \"both\" }\n",
    "is_horse_like = True #@param [\"True\", \"False\"] {type:\"raw\"}\n",
    "has_horn = True #@param [\"True\", \"False\"] {type:\"raw\"}\n",
    "has_stripes = True #@param [\"True\", \"False\"] {type:\"raw\"}\n",
    "\n",
    "# with 3 booleans there are 2^3 = 8 possible combinations\n",
    "#   2 is the base because it is either True or False\n",
    "\n",
    "if is_horse_like:\n",
    "    print(\"is_horse_like, so either 🐴 or 🦓 or 🦄 or striped unicorn. It's a...\")\n",
    "    # 'nest' some logic\n",
    "    if has_horn and not has_stripes:\n",
    "        print(\"🦄\")\n",
    "    if not (has_horn or has_stripes): # could also be `elif not has_stripes` --> why?\n",
    "        print(\"🐴\")\n",
    "    elif has_stripes and not has_horn:\n",
    "        print(\"🦓\")\n",
    "    else:\n",
    "        print(\"striped unicorn!\")\n",
    "elif has_horn:\n",
    "    print(\"not horse_like, has a horn, but could have stripes...\")\n",
    "    if not has_stripes:\n",
    "        print(\"🦏\")\n",
    "    if has_stripes: # better to just use 'else'\n",
    "        print(\"a tatooed narwhal\")\n",
    "elif has_stripes:\n",
    "    print(\"neither horselike, nor has_horn, but has stripes\")\n",
    "    print(\"🐯\")\n",
    "else:\n",
    "    print(\"could be anything else, even a 🦑\")\n",
    "\n",
    "if is_horse_like and not has_horn and not has_stripes:\n",
    "    print(\"🐴 1\") \n",
    "\n"
   ]
  },
  {
   "cell_type": "markdown",
   "id": "01aad7f9-e44f-4c1c-9d0e-a60f61d77a1b",
   "metadata": {
    "id": "g-M0HDrfHIxH",
    "slideshow": {
     "slide_type": "subslide"
    }
   },
   "source": [
    "it is useful to read the Python docs on [Types and Comparisons](https://docs.python.org/3.8/library/stdtypes.html)\n",
    "\n",
    "but these are the 2 important bits (haha) right now\n"
   ]
  },
  {
   "cell_type": "markdown",
   "id": "5ddd5248-23a1-4853-a5dd-5b6488c91358",
   "metadata": {
    "id": "gCZK0xtAYwd2",
    "slideshow": {
     "slide_type": "subslide"
    }
   },
   "source": [
    "\n",
    "### Boolean Operations — `and`, `or`, `not`\n"
   ]
  },
  {
   "cell_type": "markdown",
   "id": "2ccbb524-3a8b-48b8-a824-e0d246869014",
   "metadata": {
    "id": "L6WsnWDGYt4m",
    "slideshow": {
     "slide_type": "fragment"
    }
   },
   "source": [
    "These are the Boolean operations, ordered by ascending priority:\n",
    "\n",
    "Operation | Result | Notes\n",
    "---    | --- | ---\n",
    "`x or y` | if x is false, then y, else x | (1)\n",
    "`x and y`| if x is false, then x, else y | (2)\n",
    "`not x` | if x is false, then True, else False | (3)\n",
    "\n",
    "Notes:\n",
    "1. This is a short-circuit operator, so it only evaluates the second argument if the first one is false.\n",
    "1. This is a short-circuit operator, so it only evaluates the second argument if the first one is true.\n",
    "1. `not` has a lower priority than non-Boolean operators, so `not a == b` is interpreted as `not (a == b)`, and `a == not b` is a syntax error.\n"
   ]
  },
  {
   "cell_type": "markdown",
   "id": "c477c970-fd38-4f1a-8fb4-5a56b2c1e6c0",
   "metadata": {
    "id": "OPalZrijY0gz",
    "slideshow": {
     "slide_type": "subslide"
    }
   },
   "source": [
    "\n",
    "### Comparisons ≤\n"
   ]
  },
  {
   "cell_type": "markdown",
   "id": "933cb607",
   "metadata": {
    "id": "ue-Wf7RgY2a8",
    "slideshow": {
     "slide_type": "fragment"
    }
   },
   "source": [
    "There are eight comparison operations in Python. They all have the same priority (which is higher than that of the Boolean operations). Comparisons can be chained arbitrarily; for example, `x < y <= z` is equivalent to `x < y and y <= z`, except that `y` is evaluated only once (but in both cases `z` is not evaluated at all when `x < y` is found to be false)."
   ]
  },
  {
   "cell_type": "markdown",
   "id": "ccdf7eab",
   "metadata": {
    "id": "ue-Wf7RgY2a8",
    "slideshow": {
     "slide_type": "fragment"
    }
   },
   "source": [
    "This table summarizes the comparison operations:\n",
    "\n",
    "Operation | Meaning\n",
    "---|---\n",
    "`<`|strictly less than\n",
    "`<=`|less than or equal\n",
    "`>` | strictly greater than\n",
    "`>=` | greater than or equal\n",
    "`==` | equal\n",
    "`!=` | not equal\n",
    "`is` | object identity\n",
    "`is not` | negated object identity"
   ]
  },
  {
   "cell_type": "markdown",
   "id": "51cae61a-59ee-44b2-9bf5-cd4771e7cb24",
   "metadata": {
    "id": "ue-Wf7RgY2a8",
    "slideshow": {
     "slide_type": "fragment"
    }
   },
   "source": [
    "Objects of different types, except different numeric types, never compare equal. The `==` operator is always defined but for some object types (for example, class objects) is equivalent to `is`. The `<`, `<=`, `>` and `>=` operators are only defined where they make sense; for example, they raise a `TypeError` exception when one of the arguments is a complex number."
   ]
  },
  {
   "cell_type": "code",
   "execution_count": null,
   "id": "cec9d6df-9575-4ede-9eb4-9f9c84cf85e5",
   "metadata": {
    "id": "cjrtrzsWFBB5",
    "slideshow": {
     "slide_type": "subslide"
    }
   },
   "outputs": [],
   "source": [
    "# play around with Booleans and conditionals here\n",
    "n = 20\n",
    "n_less = n - 10\n",
    "n_more = n + 10\n",
    "\n",
    "n_less < n < n_more"
   ]
  },
  {
   "cell_type": "markdown",
   "id": "53cab5d5-1f4c-43c6-b203-2af2e97bc4db",
   "metadata": {
    "id": "Vu_RmvFdFxKj",
    "slideshow": {
     "slide_type": "subslide"
    }
   },
   "source": [
    "for **collections** (such as `str` strings) we also have access to **`in`**"
   ]
  },
  {
   "cell_type": "code",
   "execution_count": null,
   "id": "1c12a7e7-a80a-40c5-b7d0-cc47a87fb88a",
   "metadata": {
    "id": "sCBvpfoZFyin",
    "slideshow": {
     "slide_type": "fragment"
    }
   },
   "outputs": [],
   "source": [
    "s = \"string of characters\"\n",
    "small = \"small\"\n",
    "big = \"big\"\n",
    "\n",
    "print(small < big)\n",
    "print(small is not big)\n",
    "print(small != big)\n",
    "print('c' in 'character')"
   ]
  },
  {
   "cell_type": "markdown",
   "id": "c492fa04-ebd8-4238-903e-586a5a78bc14",
   "metadata": {
    "id": "9_US2e-VEQFF",
    "slideshow": {
     "slide_type": "subslide"
    }
   },
   "source": [
    "### [*Advanced*] Bitwise operators ②"
   ]
  },
  {
   "cell_type": "markdown",
   "id": "a1d15eaf-41fb-4feb-bee4-3dab8486db8e",
   "metadata": {
    "id": "mSFGFKzxEe6B",
    "slideshow": {
     "slide_type": "fragment"
    }
   },
   "source": [
    "many languages use `&&` for `and` and `||` for `or`.\n",
    "\n",
    "Python is different.\n",
    "\n",
    "Fortunately, these operators are useful when doing element-wise comparisons in arrays (see below).\n",
    "\n",
    "However, it *also* has `&` and `|` which does **bitwise** comparison. \n",
    "\n",
    "Bits are 1s and 0s and can represented using `0b` at the start or by converting a number using `bin(<number>)`"
   ]
  },
  {
   "cell_type": "code",
   "execution_count": null,
   "id": "7c83d39e-cfed-4e38-b51b-97c8b758fb85",
   "metadata": {
    "id": "6gD5hKxREkW_",
    "slideshow": {
     "slide_type": "fragment"
    }
   },
   "outputs": [],
   "source": [
    "s = 0b1001\n",
    "c = 67\n",
    "print(f\"\\t...8421\")\n",
    "print(f\"-\"*20)\n",
    "print(f\"\\t{s:0>7b} ({s:3g})\\n\\t{c:0>7b} ({c:3g})\")\n",
    "print(f\"s|c\\t{s|c:0>7b} ({s|c:3g}) bitwise or\")\n",
    "print(f\"s&c\\t{s&c:0>7b} ({s&c:3g}) bitwise and\")\n",
    "print(f\"s^c\\t{s^c:0>7b} ({s^c:3g}) bitwise xor (exclusive or)\")"
   ]
  },
  {
   "cell_type": "markdown",
   "id": "0c39df8f-7162-4ff6-b004-35212e239f03",
   "metadata": {
    "id": "6YoKo2H2s-3o",
    "slideshow": {
     "slide_type": "fragment"
    }
   },
   "source": [
    "> Q: Implement **exclusive or** using logical (instead of bitwise) operator(s)"
   ]
  },
  {
   "cell_type": "markdown",
   "id": "a84664a4",
   "metadata": {
    "id": "sncniINvE-sq",
    "slideshow": {
     "slide_type": "slide"
    }
   },
   "source": [
    "## Lists - `[...]`\n"
   ]
  },
  {
   "cell_type": "markdown",
   "id": "d4961223",
   "metadata": {
    "id": "sncniINvE-sq",
    "slideshow": {
     "slide_type": "fragment"
    }
   },
   "source": [
    "A **List** is an ordered$^1$ collection of values (or names which point to values)."
   ]
  },
  {
   "cell_type": "markdown",
   "id": "0e0bbef7",
   "metadata": {
    "id": "sncniINvE-sq",
    "slideshow": {
     "slide_type": "fragment"
    }
   },
   "source": [
    "$^1$ lists are ordered by *insertion order* - the order in which elements are put in the list"
   ]
  },
  {
   "cell_type": "markdown",
   "id": "a8eaf228",
   "metadata": {
    "id": "sncniINvE-sq",
    "slideshow": {
     "slide_type": "fragment"
    }
   },
   "source": [
    "They are created with hard brackets `[ ]` or `list( )`.\n",
    "  \n",
    "  E.g. `[1,2,3]` or `[3, 2, 'hi', 4.1]` or  even\n",
    "  \n",
    "  `[\"a\", \"list\", [\"inside\", \"a\"], \"list\"]`"
   ]
  },
  {
   "cell_type": "markdown",
   "id": "81dca670-f1bd-4960-aa59-aa538fe4d49f",
   "metadata": {
    "id": "sncniINvE-sq",
    "slideshow": {
     "slide_type": "fragment"
    }
   },
   "source": [
    "Because lists are ordered, we can retrieve a *list element* by **indexing** with integers. "
   ]
  },
  {
   "cell_type": "code",
   "execution_count": null,
   "id": "a172ebee-f9ea-40fa-a9cb-3c0a8982a257",
   "metadata": {
    "colab": {
     "base_uri": "https://localhost:8080/"
    },
    "id": "XSM1touAJm7J",
    "outputId": "6d635ab0-ad7c-44c5-f619-b54dbd0fe34f",
    "slideshow": {
     "slide_type": "subslide"
    }
   },
   "outputs": [],
   "source": [
    "spks = [1.9, 22, 40] # arriving action potentials [spike times] (ms)\n",
    "print(f\"spks looks like this: {spks}\")\n",
    "print(f\"the first element (index 0) is {spks[0]}\")\n",
    "print(f\"the second element (index 1) is {spks[1]}\")\n",
    "print(f\"the third element (index 2) is {spks[2]}\")\n",
    "print(f\"-1 is a shortcut for the last element!: spks[-1] == {spks[-1]}\")\n",
    "two_spks = [10, 20]"
   ]
  },
  {
   "cell_type": "markdown",
   "id": "2adb6505-4f40-4678-aae6-7a2bd332c039",
   "metadata": {
    "id": "Z80HwVN9PcY_",
    "slideshow": {
     "slide_type": "subslide"
    }
   },
   "source": [
    "### Arrays\n",
    "\n",
    "$$\\begin{bmatrix} 1 & ⋯ & 1 \\\\ ⋮ & ⋱ & ⋮ \\\\ 0 & ⋯ & 4 \\end{bmatrix}$$\n",
    "              \n"
   ]
  },
  {
   "cell_type": "markdown",
   "id": "a665e595-17a9-448f-a494-d8e07d12cf01",
   "metadata": {
    "id": "SMV0zl-oR8vI",
    "slideshow": {
     "slide_type": "fragment"
    }
   },
   "source": [
    "\n",
    "A similar concept to lists is **arrays**. \n",
    "\n",
    "*Lists* are useful for keeping a collection of values that stay the same.\n",
    "\n",
    "*Arrays* are useful for performing computations on a collection of values, e.g. matrices.\n",
    "\n",
    "*Arrays* must have the same data type (all numbers or all strings). *Lists* can combine types.\n",
    "\n",
    "We create arrays in Python using a `library` known as *numerical python* (`numpy`).\n"
   ]
  },
  {
   "cell_type": "code",
   "execution_count": null,
   "id": "0931a58b-1ebd-4e62-84b7-9a03e2a0d35b",
   "metadata": {
    "colab": {
     "base_uri": "https://localhost:8080/"
    },
    "id": "3Ef1rC7rL7vP",
    "outputId": "7a7b4723-dd92-4445-bd19-57b96cadf27e",
    "slideshow": {
     "slide_type": "subslide"
    }
   },
   "outputs": [],
   "source": [
    "import numpy as np # note how we import a library\n",
    "# in general, we import libaries at the top of a file (or notebook)\n",
    "# we could also import a library like\n",
    "import collections\n",
    "# or importing submodules (with a prettier or conventional name)\n",
    "from matplotlib import pyplot as plt\n",
    "import matplotlib.pyplot as plt\n",
    "\n",
    "arr = np.array([1.9, 22, 40])\n",
    "print(f\"spks looks like this: {arr}\")\n",
    "print(f\"the first element (index 0) is {arr[0]}\")\n",
    "print(f\"the second element (index 1) is {arr[1]}\")\n",
    "print(f\"the third element (index 2) is {arr[2]}\")\n",
    "print(f\"-1 is a shortcut for the last element!: arr[-1] == {arr[-1]}\")"
   ]
  },
  {
   "cell_type": "code",
   "execution_count": null,
   "id": "060e7a97-e21e-4431-b7e4-595e24163ca9",
   "metadata": {
    "id": "DNL5QY_GJ4nR",
    "slideshow": {
     "slide_type": "subslide"
    }
   },
   "outputs": [],
   "source": [
    "help(np.array)"
   ]
  },
  {
   "cell_type": "markdown",
   "id": "0ca3ab73-05bd-4b8e-8c54-df2e10c1dbcd",
   "metadata": {
    "id": "Km1ccE7fKahR",
    "slideshow": {
     "slide_type": "subslide"
    }
   },
   "source": [
    "### Tasks ✏️\n",
    "For a 500 ms simulation (spike times can be between 0 ms and 500 ms)\n",
    "\n",
    "1. Create a list of 100 spike times - `one_hundy_spks`\n",
    "1. Create a list of 100 spike times from a random process - `rand_spks`\n",
    "1. Sort `rand_spks` by time"
   ]
  },
  {
   "cell_type": "markdown",
   "id": "346d6878-98df-47a5-a795-651f4c335a97",
   "metadata": {
    "id": "9p3ljCsOmuTk",
    "slideshow": {
     "slide_type": "subslide"
    }
   },
   "source": [
    "**Task 1**: Create a list of 100 spike times - `one_hundy_spks`"
   ]
  },
  {
   "cell_type": "code",
   "execution_count": null,
   "id": "a0b009c1-6cbb-4ddb-a52a-f5430dfa1308",
   "metadata": {
    "id": "nAPInwP5myKF",
    "slideshow": {
     "slide_type": "fragment"
    }
   },
   "outputs": [],
   "source": [
    "one_hundy_spks = [] # start with an empty list\n",
    "# implement your solution here\n",
    "# hint: we can add a value to the end of a list using one_hundy_spks.append(<value>)\n",
    "# TODO: put a number in the list\n",
    "# TODO: 100 times..."
   ]
  },
  {
   "cell_type": "code",
   "execution_count": null,
   "id": "304dc63f-5a0c-4b2a-bbae-ff87c5d8d69c",
   "metadata": {
    "cellView": "form",
    "id": "USALH5lsndfs",
    "slideshow": {
     "slide_type": "fragment"
    }
   },
   "outputs": [],
   "source": [
    "#@title run this to test your code\n",
    "import numpy as np\n",
    "try:\n",
    "    assert len(one_hundy_spks) == 100, \"you don't have 100 spike times\"\n",
    "    assert np.all(np.array(one_hundy_spks) <= 500), \"there's a spike time more than 500\"\n",
    "    assert np.all(np.array(one_hundy_spks) >= 0), \"there's a spike time less than zero\"\n",
    "except AssertionError as ae:\n",
    "    print(f\"failed because {ae}\")\n",
    "else:\n",
    "    print(\"passed\")"
   ]
  },
  {
   "cell_type": "markdown",
   "id": "ff251691-c4bc-46f0-a861-3df76289f031",
   "metadata": {
    "id": "Ue1Vy3Roowmp",
    "slideshow": {
     "slide_type": "subslide"
    }
   },
   "source": [
    "**Task 2:** Create a list of 100 spike times from a random process - `rand_spks`"
   ]
  },
  {
   "cell_type": "code",
   "execution_count": null,
   "id": "23dd1986-e896-4f9a-8b02-9f11e25cde66",
   "metadata": {
    "id": "IL0lNFruKehs",
    "slideshow": {
     "slide_type": "fragment"
    }
   },
   "outputs": [],
   "source": [
    "# option 1: using the random library\n",
    "import random # <-- we have now gained access to extra functionality!"
   ]
  },
  {
   "cell_type": "markdown",
   "id": "852873c6-4556-4c3c-a6cb-956dff76cb9b",
   "metadata": {
    "id": "nozwuhIWxRCQ",
    "slideshow": {
     "slide_type": "subslide"
    }
   },
   "source": [
    "Imagine if someone (or a bunch of people) had implemented useful functions already and made them available to us...\n",
    "\n",
    "Enter **libraries** or *packaged bits of functionality*.\n",
    "\n",
    "We have just **imported** the `random` library. \n",
    "\n",
    "Read the [documentation](https://docs.python.org/3/library/random.html) to find out what methods it has!"
   ]
  },
  {
   "cell_type": "code",
   "execution_count": null,
   "id": "436fb647-0c9a-41dc-9462-7ad62c4bcdd6",
   "metadata": {
    "id": "fn8GTdqPxi6j",
    "slideshow": {
     "slide_type": "fragment"
    }
   },
   "outputs": [],
   "source": [
    "rand_spks = [] # start with an empty list\n",
    "# implement your solution here\n",
    "# hint: we can use the randint function in the random library\n",
    "# TODO: get a random number\n",
    "# TODO: put the number in the list\n",
    "# TODO: 100 times..."
   ]
  },
  {
   "cell_type": "code",
   "execution_count": null,
   "id": "b1534c02-4f18-4c97-97bc-cbeb3796b5ae",
   "metadata": {
    "cellView": "form",
    "id": "ZpZI78IwpQM_",
    "slideshow": {
     "slide_type": "fragment"
    }
   },
   "outputs": [],
   "source": [
    "#@title run this to test your code\n",
    "import numpy as np\n",
    "try:\n",
    "    assert len(rand_spks) == 100, \"you don't have 100 spike times\"\n",
    "    _test_arr = np.array(rand_spks)\n",
    "    assert np.all(_test_arr <= 500), \"there's a spike time more than 500\"\n",
    "    assert np.all(_test_arr >= 0), \"there's a spike time less than zero\"\n",
    "    assert sorted(rand_spks) != rand_spks, \"you didn't use a random process (sneaky sneaky)\"\n",
    "except AssertionError as ae:\n",
    "    print(f\"failed because {ae}\")\n",
    "else:\n",
    "    print(\"passed\")"
   ]
  },
  {
   "cell_type": "markdown",
   "id": "f8b0ed9a-d295-465d-a2fe-46fbeed657eb",
   "metadata": {
    "id": "unkvcWOVsQyT",
    "slideshow": {
     "slide_type": "subslide"
    }
   },
   "source": [
    "**Task 3:** Sort `rand_spks` by time"
   ]
  },
  {
   "cell_type": "code",
   "execution_count": null,
   "id": "1ae21946-38ce-4695-8523-df975fe5ea51",
   "metadata": {
    "id": "f3iqPwsLsS3b",
    "slideshow": {
     "slide_type": "fragment"
    }
   },
   "outputs": [],
   "source": [
    "# implement your solution here\n",
    "# TODO: write some code ..."
   ]
  },
  {
   "cell_type": "markdown",
   "id": "ff417a0b-306b-4ba6-8c33-1aed2716402c",
   "metadata": {
    "id": "FEoRvdsUtiK6",
    "slideshow": {
     "slide_type": "slide"
    }
   },
   "source": [
    "## Tying it all together: Synaptic conductance\n",
    "Creating `g_syn` that takes a list of spike times ($t_s$ | `spks`) and returns the conductance ($g$ | `g`)"
   ]
  },
  {
   "cell_type": "code",
   "execution_count": null,
   "id": "34583267-0391-4108-978b-a7fbb7864430",
   "metadata": {
    "colab": {
     "base_uri": "https://localhost:8080/"
    },
    "id": "6l_qfz7Etlat",
    "outputId": "42df854f-5307-43f3-93cf-e7afad1c0462",
    "slideshow": {
     "slide_type": "subslide"
    }
   },
   "outputs": [],
   "source": [
    "from math import e # instead of defining e manually, we use the math library which has a more accurate value\n",
    "\n",
    "def g_syn(t, spks, g_max=50, tau=5):\n",
    "    \"\"\"Single exponential conductance decay using equation 6.\n",
    "\n",
    "    :param t: time point at which to evaluate (ms)\n",
    "    :param spks: list of time points (ms) of incoming signals (presynaptic action potentials)\n",
    "    :param g_max: maximum synaptic conductance (nS) [default: 50]\n",
    "    :param tau: synapse time constant (ms) [default: 5]\n",
    "    :return: value of synaptic conductance (nS) at time t\n",
    "\n",
    "    Tests\n",
    "    ------\n",
    "    >>> g_syn(1,[1],50,5) # command starting with '>>>' and expected output below\n",
    "    50.0\n",
    "    >>> g_syn(1,1,50,5) # a number instead of list is passed\n",
    "    50.0\n",
    "    >>> g_syn(1,2,50,5) # a number instead of list is passed\n",
    "    0.0\n",
    "    >>> g_syn(1,np.array([1]),50,5) # a numpy array\n",
    "    50.0\n",
    "    >>> g_syn(1,[10000],50,5) # a spk is waaaay ahead of t\n",
    "    0.0\n",
    "    >>> g_syn(1,[1,10000],50,5) # a spk is waaaay ahead of t\n",
    "    50.0\n",
    "    >>> g_syn(10000,[1],50,5) # t is waaaay after spk\n",
    "    0.0\n",
    "    \"\"\"\n",
    "    total = 0.0  # we iterate from 0 until the length of the spks list (e.g. 100)\n",
    "    for i in range(len(spks)):\n",
    "        total += g_max * e**(-(t-spks[i])/tau) * heaviside(t-spks[i])\n",
    "    return total\n",
    "\n",
    "# test our function\n",
    "t = 40                # time point we want to investigate\n",
    "spks = [1.9, 22, 40]  # a list of spike times (ms)\n",
    "print(f\"the first spike comes at t = {spks[0]} ms\") # lists start indexing at 0!\n",
    "print(f\"the last spike comes at t = {spks[-1]} ms\") # -1 is shortcut for the last element"
   ]
  },
  {
   "cell_type": "markdown",
   "id": "ae034315",
   "metadata": {
    "id": "AAb-KyPxZQ34",
    "slideshow": {
     "slide_type": "slide"
    }
   },
   "source": [
    "## **Testing** 🧪\n",
    "run basic tests in docstrings (method comments)"
   ]
  },
  {
   "cell_type": "markdown",
   "id": "70f3bf93-23db-41a1-a8c9-ee64886c6943",
   "metadata": {
    "id": "AAb-KyPxZQ34",
    "slideshow": {
     "slide_type": "fragment"
    }
   },
   "source": [
    "```python\n",
    "\"\"\"\n",
    ">>> g_syn(1,[1],50,5) # command starting with '>>>' and expected output below\n",
    "50.0\n",
    "\"\"\"\n",
    "```"
   ]
  },
  {
   "cell_type": "code",
   "execution_count": null,
   "id": "0f86afae",
   "metadata": {
    "slideshow": {
     "slide_type": "subslide"
    }
   },
   "outputs": [],
   "source": [
    "import doctest\n",
    "# test the entire module (in this case every cell that has been run)\n",
    "doctest.testmod()\n",
    "# this becomes burdensome if we just want to test g_syn"
   ]
  },
  {
   "cell_type": "markdown",
   "id": "c684a126-9c90-40ec-9193-4aa77fe666b9",
   "metadata": {
    "id": "uLXiFlW7ZAeh",
    "slideshow": {
     "slide_type": "subslide"
    }
   },
   "source": [
    "### **Tasks** ✏️\n"
   ]
  },
  {
   "cell_type": "markdown",
   "id": "404f8ca4",
   "metadata": {
    "slideshow": {
     "slide_type": "fragment"
    }
   },
   "source": [
    "You will have (hopefully) noticed some doctsring tests failed. Let's fix that 🛠\n",
    "\n",
    "of course we can change the tests themselves, but *shortcuts **now** lead to broken results **later**.*"
   ]
  },
  {
   "cell_type": "markdown",
   "id": "c52e113e",
   "metadata": {
    "id": "WuQ3nOrgupiO",
    "slideshow": {
     "slide_type": "subslide"
    }
   },
   "source": [
    "**Task 1:** Fix the errors by examining what error was \"raised\" or \"thrown\" (terminology for when an error occurs) and changing the `g_syn` method appropriately.\n",
    "\n",
    "**Task 2:** Make the method more efficient by using the numpy library."
   ]
  },
  {
   "cell_type": "markdown",
   "id": "9ae00b43",
   "metadata": {
    "id": "WuQ3nOrgupiO",
    "slideshow": {
     "slide_type": "fragment"
    }
   },
   "source": [
    "Hints for task 1:\n",
    "1. you can check a variable's type using `type(<var name>) is int` or `isinstance(<var name>, int)`. `int` is an example of a type you can check against. The others include `float`, `str`, `list`, `dict`, `bool`, and `np.ndarray`. numpy also has the `np.iterable` method\n",
    "1. you can **cast** to a type (convert from one to another) by using the type name and parenthesis. E.g. `int(3.2) == 3`\n",
    "1. `list` and `[]` are **not** synonymous. Try this:\n",
    "```\n",
    "d = {'a':1,'b':2} \n",
    "list(d) == [d] # is this True or False?\n",
    "```"
   ]
  },
  {
   "cell_type": "markdown",
   "id": "83f0b084-e087-4bca-a06a-3f16abd5ec2c",
   "metadata": {
    "id": "WuQ3nOrgupiO",
    "slideshow": {
     "slide_type": "fragment"
    }
   },
   "source": [
    "Hints for task 2:\n",
    "1. \"Vectorise\" the `for` loop (i.e. use a `np.array` which enables linear algebra operations)\n",
    "1. `np.exp(...)` is shorthand for `e**(...)` or `power(e,...)`(and more efficient too!)\n",
    "1. you can create **boolean masks** to only select certain elements of an array\n",
    "```\n",
    "a = np.array([1,2,3,4,5,6,7,8,9])\n",
    "mask = a>5\n",
    "print(a[mask]) # outputs [6 7 8 9]\n",
    "```"
   ]
  },
  {
   "cell_type": "code",
   "execution_count": null,
   "id": "6e8af876",
   "metadata": {
    "id": "sW2BZVboztQ9",
    "slideshow": {
     "slide_type": "subslide"
    }
   },
   "outputs": [],
   "source": [
    "def g_syn_solution(t, spks, g_max=50, tau=5):\n",
    "    ### EDIT BELOW >>>\n",
    "    total = 0.0\n",
    "    for i in range(len(spks)):\n",
    "        total += g_max * e**(-(t-spks[i])/tau) * heaviside(t-spks[i])\n",
    "    ### <<< EDIT ABOVE\n",
    "    return total\n",
    "# the line below copies the docstring (including doctests) to this function\n",
    "g_syn_solution.__doc__ = g_syn.__doc__.replace(\"g_syn\",\"g_syn_solution\")\n",
    "# run doctests just for this method\n",
    "doctest.run_docstring_examples(g_syn_solution, globals(), \n",
    "                               name=g_syn_solution.__name__, verbose=True)"
   ]
  },
  {
   "cell_type": "markdown",
   "id": "a83e5d0f-3516-4517-8a1b-f0be6f1d8cc5",
   "metadata": {
    "id": "4RypqroqS0Fb",
    "slideshow": {
     "slide_type": "slide"
    }
   },
   "source": [
    "## Synaptic currents ⫯"
   ]
  },
  {
   "cell_type": "markdown",
   "id": "0d34c239-eefa-4721-ba6d-fd5a8d0cfa98",
   "metadata": {
    "id": "OPEngNMkvmgk",
    "slideshow": {
     "slide_type": "fragment"
    }
   },
   "source": [
    "![](https://lh5.googleusercontent.com/XAGO3XS_uIYFBQD3vDCS5pd-3syMQ2DrRGMqiyUlV4HrywnOz0neCLGKiCzSbpZ_wUo=w2400)\n",
    "\n",
    "- _C.B. Currin, 2020_"
   ]
  },
  {
   "cell_type": "code",
   "execution_count": null,
   "id": "4ceb02a5-1a65-4cf6-8f2e-3e5ee7000d55",
   "metadata": {
    "colab": {
     "base_uri": "https://localhost:8080/"
    },
    "id": "F2mcIJDSPDj2",
    "outputId": "2ec920e8-be8f-4bbd-c69c-5675c182820a",
    "slideshow": {
     "slide_type": "subslide"
    }
   },
   "outputs": [],
   "source": [
    "# Excitatory synapse\n",
    "def I_AMPA(t, V_t, spks, g_max=50, tau=4, E=0):\n",
    "    # note we convert from nS and mV to mA with 1e-3\n",
    "    # --> motivate why 1e-3 instead of having the reader guess\n",
    "    return 1e-3 * g_syn(t, spks, g_max, tau) * (V_t-E)\n",
    "\n",
    "# Inhibitory synapse\n",
    "def I_GABA(t, V_t, spks, g_max=50, tau=8, E=-70):\n",
    "    return 1e-3 * g_syn(t, spks, g_max, tau) * (V_t-E)"
   ]
  },
  {
   "cell_type": "code",
   "execution_count": null,
   "id": "1a530191",
   "metadata": {
    "slideshow": {
     "slide_type": "subslide"
    }
   },
   "outputs": [],
   "source": [
    "t = 10        # time point\n",
    "V_t = -64.2   # V_t at t\n",
    "# spike times\n",
    "exc_spks = [1.9, 22, 40]                    # defined\n",
    "inh_spks = np.random.randint(0, t, size=2)  # random\n",
    "i_ampa_result = I_AMPA(t, V_t, exc_spks)\n",
    "i_gaba_result = I_GABA(t, V_t, inh_spks)\n",
    "print(f\"I_AMPA{t, V_t, exc_spks} = {i_ampa_result:>8.4f} mA\")\n",
    "print(f\"I_GABA{t, V_t, inh_spks} = {i_gaba_result:>8.4f} mA\")"
   ]
  },
  {
   "cell_type": "code",
   "execution_count": null,
   "id": "72b2c02f-f75d-4a7f-b20e-24622e6bfcab",
   "metadata": {
    "colab": {
     "base_uri": "https://localhost:8080/"
    },
    "id": "33fT0mJ9SMHS",
    "outputId": "18bb5cfd-5fde-4b43-eb29-344b2110b9f4",
    "slideshow": {
     "slide_type": "subslide"
    }
   },
   "outputs": [],
   "source": [
    "# Neuronal parameters\n",
    "V_rest = -65  # resting membrane potential (mV)\n",
    "C_m = 1       # membrane capacitance (nF)\n",
    "R_m = 100     # membrane resistance (MOhm)\n",
    "I_e = 0       # external current (nA)\n",
    "A = 10        # surface area of electrode (um^2)\n",
    "\n",
    "# Simulation parameters\n",
    "V_t = V_rest + 2 # let's start V_t again\n",
    "print(f\"V_t at the start is {V_t:.2f} mV\")\n",
    "T = 100       # duration (ms)\n",
    "dt = 0.1      # time step (ms)\n",
    "spks = [1.9]  # a list of spike times (ms)\n",
    "\n",
    "num_iter = round(T/dt)\n",
    "\n",
    "for i in range(num_iter):\n",
    "    t = i*dt\n",
    "    I_leak = (V_t - V_rest)/R_m\n",
    "    I_syn = I_GABA(t, V_t, inh_spks) + I_AMPA(t, V_t, exc_spks)\n",
    "    dV = (-I_leak - I_syn + I_e/A) * dt/C_m\n",
    "    V_t = V_t + dV\n",
    "print(f\"V_t after {dt*num_iter} ms is {V_t:.2f} mV\")"
   ]
  },
  {
   "cell_type": "markdown",
   "id": "8d2d680c-1884-499c-8299-50e2273d19b9",
   "metadata": {
    "id": "btB5clIQ9fM7",
    "slideshow": {
     "slide_type": "slide"
    },
    "tags": []
   },
   "source": [
    "## Ions 🏋️\n",
    "![ions](https://images.unsplash.com/photo-1531748049999-7217dc4cfbd1?ixlib=rb-1.2.1&ixid=eyJhcHBfaWQiOjEyMDd9&auto=format&fit=crop&w=1275&h=500&q=80)"
   ]
  },
  {
   "cell_type": "markdown",
   "id": "f7925ea2-90bb-4f3d-be0e-6e2a7695aa02",
   "metadata": {
    "id": "iDZ2rKjaoknX",
    "slideshow": {
     "slide_type": "subslide"
    }
   },
   "source": [
    "### Equilibrium potentials ⚖️\n",
    "\n",
    "\n",
    "In general, we create models that ignore (\"abstract away\") unncessary complexity but capture what we're investigating [1]. \n",
    "\n",
    "1. Herz AVM, Gollisch T, Machens CK, Jaeger D. Modeling single-neuron dynamics and computations: A balance of detail and abstraction. Science (80- ). 2006;314(5796):80–5. doi: [10.1126/science.1127240](http://doi.org/10.1126/science.1127240) [[DOWNLOAD PDF](https://drive.google.com/open?id=1WcUPYYdBcDpXbFcR5JSLd5sp1FvmsWo0)]"
   ]
  },
  {
   "cell_type": "markdown",
   "id": "fe9546aa",
   "metadata": {
    "id": "l1FfFW7Czr8v",
    "slideshow": {
     "slide_type": "subslide"
    }
   },
   "source": [
    "### Where does the resting membrane potential come from?"
   ]
  },
  {
   "cell_type": "markdown",
   "id": "42332de0",
   "metadata": {
    "id": "l1FfFW7Czr8v",
    "slideshow": {
     "slide_type": "fragment"
    }
   },
   "source": [
    "The resting membrane potential is determined by the uneven distribution of ions (charged particles) between the inside and the outside of the cell, and by the different permeability of the membrane to different types of ions.\n",
    "\n",
    "<div>\n",
    "<figure style=\"float:left\">\n",
    "    <img src=\"https://www.news-medical.net/image.axd?picture=2018%2f10%2fshutterstock_480412786.jpg&ts=20181025104435&ri=673\" width=\"600px\">\n",
    "</figure>\n",
    "</div>"
   ]
  },
  {
   "cell_type": "markdown",
   "id": "61cec278",
   "metadata": {
    "id": "l1FfFW7Czr8v",
    "slideshow": {
     "slide_type": "fragment"
    }
   },
   "source": [
    "<div style=\"float:left; display:block-inline\">\n",
    "<img src=\"https://upload.wikimedia.org/wikipedia/commons/f/fb/Basis_of_Membrane_Potential2.png\" width=\"300px\">\n",
    "</div>"
   ]
  },
  {
   "cell_type": "markdown",
   "id": "c2da6116-6eff-4b10-93bc-2ea8a54ec6dc",
   "metadata": {
    "id": "l1FfFW7Czr8v",
    "slideshow": {
     "slide_type": "fragment"
    }
   },
   "source": [
    "<div style=\"float:right; display:block-inline\">\n",
    "    <img src=\"https://upload.wikimedia.org/wikipedia/commons/thumb/7/73/Action_potential_ion_sizes.svg/1920px-Action_potential_ion_sizes.svg.png\" width=\"300px\">\n",
    "    </div>\n",
    "\n",
    "- [Wikipedia](https://en.wikipedia.org/wiki/Membrane_potential)\n",
    "- [Khan Academy](https://www.khanacademy.org/science/biology/human-biology/neuron-nervous-system/a/the-membrane-potential)\n",
    "\n",
    "Despite the small differences in their radii, ions rarely go through the \"wrong\" channel."
   ]
  },
  {
   "cell_type": "markdown",
   "id": "0ef60a9f-b072-4227-a0ae-aa81cf21c5a5",
   "metadata": {
    "id": "ONtYUXG__TBz",
    "slideshow": {
     "slide_type": "slide"
    }
   },
   "source": [
    "### Dictionaries - `dict`\n",
    "The way we are going to implement ions is going to be simple and doesn't require the complexity of class and objects (which we could certainly do). We are going to using a **Dictionary**."
   ]
  },
  {
   "cell_type": "markdown",
   "id": "3f1e1df7-288f-47ab-9272-3c9c94f52388",
   "metadata": {
    "id": "bBxk9ccNJiNr",
    "slideshow": {
     "slide_type": "subslide"
    }
   },
   "source": [
    "\n",
    "A **Dictionary** is an unordered collection of `key:value` pairs. This means the index is the **key** instead of an integer as in a `list`.\n",
    "They are created with curly brackets `{ }` or the `dict` keyword.\n",
    "\n",
    "```\n",
    "# create\n",
    "my_dict = {'key': 'value',\n",
    "           'key2': 'another value, \n",
    "           'b': 2, \n",
    "           10: 'j',\n",
    "           'list_val': my_list\n",
    "           }\n",
    "# add another key: value pair\n",
    "my_dict['new key'] = {'a': 'dict',\n",
    "                      'within': True}\n",
    "\n",
    "# overwrite a key (reassign)\n",
    "my_dict['key'] = dict(another_dict_key=\"another dict's value\")\n",
    "\n",
    "# retrieve a key\n",
    "print(my_dict['key2'])\n",
    "\n",
    "# iterate\n",
    "for k, v in my_dict.items():\n",
    "  print(f\"my_dict[{k}] = {v}\")\n",
    "```\n",
    "\n",
    "\n"
   ]
  },
  {
   "cell_type": "markdown",
   "id": "9a35ecb6-b3db-455c-82bd-ce4a37908b1f",
   "metadata": {
    "id": "HxrEf0bjBGQ-",
    "slideshow": {
     "slide_type": "fragment"
    }
   },
   "source": [
    "> the `dict` method of creation looks *suspiciously* like keyword arguments in methods 😉"
   ]
  },
  {
   "cell_type": "code",
   "execution_count": null,
   "id": "5402d7d7-9e3c-4408-9f2f-684ccd8b98a9",
   "metadata": {
    "colab": {
     "background_save": true
    },
    "id": "uFbHPcoVa0k9",
    "outputId": "eceb16e1-a30d-4498-9c54-05dba5ba1985",
    "slideshow": {
     "slide_type": "subslide"
    }
   },
   "outputs": [],
   "source": [
    "#-----------------------------\n",
    "# Variables\n",
    "#-----------------------------\n",
    "C = concentrations = {'K':    {'i':140,'o':  5},\n",
    "                      'Na':   {'i': 15,'o':125},\n",
    "                      'Cl':   {'i':  5,'o':135},\n",
    "                      'HCO3': {'i': 10,'o': 25},\n",
    "                      }\n",
    "\n",
    "ion_names = list(concentrations.keys()) # get the keys and convert to a list\n",
    "ion_names  # the exact order of keys is *not* guaranteed!"
   ]
  },
  {
   "cell_type": "markdown",
   "id": "f034cda9-f8d3-453c-a3b2-2df785e8328e",
   "metadata": {
    "id": "ZIuZX-fO3vMN",
    "slideshow": {
     "slide_type": "subslide"
    }
   },
   "source": [
    "### Reversal Potential - $E$"
   ]
  },
  {
   "cell_type": "markdown",
   "id": "8b78fce6-fc92-4b80-a38a-4c3ff168dda7",
   "metadata": {
    "id": "2nlGi_mpRn1F",
    "slideshow": {
     "slide_type": "fragment"
    }
   },
   "source": [
    "> In a biological membrane, the reversal potential (also known as the Nernst potential) of an ion is the membrane potential at which there is no net (overall) flow of that particular ion from one side of the membrane to the other. In the case of post-synaptic neurons, the reversal potential is the membrane potential at which a given neurotransmitter causes no net current flow of ions through that neurotransmitter receptor's ion channel.\n",
    "  https://en.wikipedia.org/wiki/Reversal_potential\n",
    "\n",
    "For a single ion species, the Nernst potential is used,\n",
    "\n",
    "$ E = \\frac{R \\cdot T}{z \\cdot F} \\cdot \\ln(\\frac{[ion]_{out}}{[ion]_{in}})$\n",
    "\n",
    "Where \n",
    "- $[ion]_{out}$ is the extracellular concentration of that ion (in moles per cubic meter, to match the other SI units, though the units strictly don't matter, as the ion concentration terms become a dimensionless ratio),\n",
    "- $[ion]_{in}$ is the intracellular concentration of that ion (in moles per cubic meter),\n",
    "- R is the ideal gas constant (joules per kelvin per mole),\n",
    "- T is the temperature in kelvins,\n",
    "- F is Faraday's constant (coulombs per mole).\n",
    "- z is the charge of the ion species (e.g. +1 for $Na^+$ and -1 for $Cl^-$)\n"
   ]
  },
  {
   "cell_type": "code",
   "execution_count": null,
   "id": "34e81f33-c8f4-438e-bdbf-a0964573d4b3",
   "metadata": {
    "colab": {
     "background_save": true
    },
    "id": "4SRoeGGGTyk0",
    "slideshow": {
     "slide_type": "subslide"
    }
   },
   "outputs": [],
   "source": [
    "#-----------------------------\n",
    "# Constants\n",
    "#-----------------------------\n",
    "R = 8.314   # Real gas constant (J K^-1 mol^-1)\n",
    "F = 96485   # Faraday constant (C mol^-1)\n",
    "T = 310.25  # Temperature (K)\n",
    "RTF = R*T/F # All treated as constant for the simulations\n",
    "\n",
    "z = valence = {'K': 1, 'Na': 1, 'Cl': -1,'HCO3': -1}"
   ]
  },
  {
   "cell_type": "code",
   "execution_count": null,
   "id": "7478affa-df61-4484-9618-7adade470d94",
   "metadata": {
    "colab": {
     "background_save": true
    },
    "id": "MtHGBMdYQrDM",
    "slideshow": {
     "slide_type": "subslide"
    }
   },
   "outputs": [],
   "source": [
    "def nernst_ind(C_out, C_in, sign):\n",
    "    \"\"\"Calculate the Nernst potential (in mV) for given C out, C in, z\n",
    "\n",
    "    >>> round(nernst_ind(135, 5, -1),2)\n",
    "    -88.11\n",
    "    \"\"\"\n",
    "    # note that log is the natural log (base e not base 10)\n",
    "    return RTF/sign * np.log(C_out/C_in)*1000\n",
    "\n",
    "def nernst(ion, conc=None):\n",
    "    \"\"\"Calculate the Nernst potential (in mV) for a given ion.\n",
    "     The ion concentrations are retrieved from the conc dict.\n",
    "     The ion valences are retrieved from the valence dict.\n",
    "\n",
    "     >>> round(nernst('Cl', conc=dict(Cl=dict(i=5, o=135))),2)\n",
    "     -88.11\n",
    "    \"\"\"\n",
    "    if conc is None:\n",
    "        # use global values\n",
    "        conc=concentrations\n",
    "    return nernst_ind(conc[ion]['o'], conc[ion]['i'], valence[ion])"
   ]
  },
  {
   "cell_type": "code",
   "execution_count": null,
   "id": "511c147d-38fa-4199-87cf-60ba62a9a031",
   "metadata": {
    "colab": {
     "background_save": true
    },
    "id": "8ZNoD4k04Y1V",
    "outputId": "cd00c057-26bc-4876-da95-fbace53c4058",
    "slideshow": {
     "slide_type": "fragment"
    }
   },
   "outputs": [],
   "source": [
    "# some simple tests using assert\n",
    "for ion in concentrations:\n",
    "    _e = nernst(ion)\n",
    "    print(f\"E{ion:<4} = {_e:>8.2f} mV\")\n",
    "    assert _e == nernst_ind(C[ion]['o'], C[ion]['i'], valence[ion]), \"Nernst error\""
   ]
  },
  {
   "cell_type": "code",
   "execution_count": null,
   "id": "00afe095-c4ac-4638-a0b9-0a0b89d0617f",
   "metadata": {
    "colab": {
     "background_save": true
    },
    "id": "FKzRR6ag4Ng6",
    "outputId": "5d0309b7-35c4-4fc3-e911-bc66fcd98e9b",
    "slideshow": {
     "slide_type": "fragment"
    }
   },
   "outputs": [],
   "source": [
    "# remember to test more explicitly\n",
    "import doctest\n",
    "doctest.run_docstring_examples(nernst, globals(), \n",
    "                               name=nernst.__name__, verbose=True)\n",
    "doctest.run_docstring_examples(nernst_ind, globals(), \n",
    "                               name=nernst_ind.__name__, verbose=True)"
   ]
  },
  {
   "cell_type": "markdown",
   "id": "ad8b4dd9",
   "metadata": {
    "id": "ERvH9pfOT8z8",
    "slideshow": {
     "slide_type": "subslide"
    }
   },
   "source": [
    "### Resting potential 〰️"
   ]
  },
  {
   "cell_type": "markdown",
   "id": "4409e79b-c121-48b9-a362-5c78e500b158",
   "metadata": {
    "id": "ERvH9pfOT8z8",
    "slideshow": {
     "slide_type": "fragment"
    }
   },
   "source": [
    "To calculate the equilibrium potential for section of membrane that is permeable to *multiple* ion species, the Goldman-Hodgkin-Katz (GHK) equation is used.\n",
    "\n",
    "This is true for some receptors like the $GABA_A$ receptor which is permeable to both Chloride and Bicarbonate ions. \n",
    "\n",
    "Because the neuronal membrane has passive channels and active ion pumps that make it permeable to ions even when not \"doing anything\" (spiking), the GHK equation is used to calculate the resting membrane potential.\n",
    "\n",
    "![](https://wikimedia.org/api/rest_v1/media/math/render/svg/e290b78cf2f968293d8dde2a4732c6d22c6d1226)\n",
    "\n",
    "Where \n",
    "- $P$ is the relative permeability of that ion (or selectivity in meters per second)\n",
    "- $M$ are monovalent cations (*positive* ions with a single charge)\n",
    "- $A$ are monovalent anions (*negative* ions with a single charge)"
   ]
  },
  {
   "cell_type": "code",
   "execution_count": null,
   "id": "b4ce8cc1-47ab-4e43-932e-04ded1820d8c",
   "metadata": {
    "colab": {
     "background_save": true
    },
    "id": "kbzOwA_3T6yX",
    "slideshow": {
     "slide_type": "subslide"
    }
   },
   "outputs": [],
   "source": [
    "#-----------------------------\n",
    "# Parameters\n",
    "#-----------------------------\n",
    "# GABAA receptor\n",
    "pcl = 0.8   # Cl permeability\n",
    "phco3 = 0.2 # HCO3 permeability\n",
    "\n",
    "# membrane permeability to ions (multiple values have been found in the lit)\n",
    "pK = 1\n",
    "pNa = 0.05\n",
    "pCl = 0.45\n"
   ]
  },
  {
   "cell_type": "code",
   "execution_count": null,
   "id": "ce95c594-d0ad-4e60-b710-b4706f627e9b",
   "metadata": {
    "colab": {
     "background_save": true
    },
    "id": "tNiZtMN44Kq-",
    "outputId": "9335f87a-71d1-42ff-a318-929238e738df",
    "slideshow": {
     "slide_type": "fragment"
    }
   },
   "outputs": [],
   "source": [
    "def ghk(C_outs, C_ins, ps, zs):\n",
    "    \"\"\"Calculate the potential of given ions using the Goldman–Hodgkin–Katz (GHK)\n",
    "    equation.\n",
    "    >>> round(ghk([4,125,110], [150,15,10], [pK, pNa, pCl], [1,1,-1]),2)\n",
    "    -69.73\n",
    "    \"\"\"\n",
    "    dividend = 0\n",
    "    divisor = 0\n",
    "    for cin, cout, p, z  in zip(C_ins, C_outs, ps, zs):\n",
    "        assert abs(z) == 1, \"only monovalent ions supported\"\n",
    "        if z>0:\n",
    "            dividend += p*cout\n",
    "            divisor += p*cin\n",
    "        else:\n",
    "            dividend += p*cin\n",
    "            divisor += p*cout\n",
    "    return RTF*np.log(dividend/divisor)*1000\n",
    "\n",
    "# some simple tests\n",
    "for ion in concentrations:\n",
    "    _e = nernst(ion)\n",
    "    print(f\"E{ion:<4} = {_e:>8.2f} mV\")\n",
    "    _e_ghk = ghk([C[ion]['o']], \n",
    "             [C[ion]['i']], \n",
    "             [1], [valence[ion]])\n",
    "    assert _e == nernst_ind(C[ion]['o'], C[ion]['i'], valence[ion]), \"Nernst error\"\n",
    "    assert round(_e,8) == round(_e_ghk,8), f\"Nernst ({_e}) != GHK ({_e_ghk})\""
   ]
  },
  {
   "cell_type": "code",
   "execution_count": null,
   "id": "a048c70b-a17e-4430-b55e-b44fadab68c8",
   "metadata": {
    "colab": {
     "background_save": true
    },
    "id": "cl5wmEYLwQoI",
    "outputId": "6e27f29f-eab0-4db3-a6e1-857bc1088502",
    "slideshow": {
     "slide_type": "fragment"
    }
   },
   "outputs": [],
   "source": [
    "doctest.run_docstring_examples(ghk, globals(), \n",
    "                               name=ghk.__name__, verbose=True)"
   ]
  },
  {
   "cell_type": "markdown",
   "id": "c8f7dfde-240c-4fe7-82df-b5702147f25a",
   "metadata": {
    "id": "8-AkipZCwfFQ",
    "slideshow": {
     "slide_type": "slide"
    }
   },
   "source": [
    "\n",
    "# **Homework/Project 1** Investigate the reversal potential for $GABA_A$ synapses ($E_{GABA}$) as function of its permeability to its ions: $Cl^-$ and $HCO_3^-$. \n",
    "  "
   ]
  },
  {
   "cell_type": "markdown",
   "id": "f8615a41-d699-4da1-b641-19e2ebbe5901",
   "metadata": {
    "id": "g0xrjInYtkiQ",
    "slideshow": {
     "slide_type": "fragment"
    }
   },
   "source": [
    "\n",
    "![](https://lh5.googleusercontent.com/DuUfmSubOcQaYilc3e1hbi102uvbPpvUtUCpNQdGv29dvEwGA_9ryUwMRlAqPaLbp5E=w2400) - _C.B. Currin, 2020_\n",
    "\n",
    "\n"
   ]
  },
  {
   "cell_type": "markdown",
   "id": "b3e54aba-8555-4959-967c-51d49632e050",
   "metadata": {
    "id": "Dmz4UP-7jw81",
    "slideshow": {
     "slide_type": "subslide"
    }
   },
   "source": [
    "\n",
    "#### **1.1**\n",
    "  Experiments have shown that $GABA_A$ can be excitatory ($V_m - E_{GABA} < 0$ ). \n",
    "  \n",
    "  Given \n",
    "  $\\begin{align}\n",
    "  [Cl^-]_o &= 135 mM\\\\\n",
    "  [HCO_3^-]_o &= 25 mM \\\\\n",
    "  [HCO_3^-]_i &= 10 mM \\\\\n",
    "  V_m &= -65 mV\n",
    "  \\end{align}$, what value for $[Cl^-]_i$ elicits a negative *driving force* $(V_m - E_{GABA})$? \n"
   ]
  },
  {
   "cell_type": "markdown",
   "id": "6f3905d9-0013-4b82-bb74-15270a4d0fde",
   "metadata": {
    "id": "JDFoHI6Jj2_N",
    "slideshow": {
     "slide_type": "subslide"
    }
   },
   "source": [
    "\n",
    "#### **1.2**\n",
    "The change in concentration for an ion based on its current, can be formulated as $\\frac{d[X]}{dt} = I_{[X]} \\cdot \\frac{1}{F \\cdot \\rm{volume}}$. \n",
    "  \n",
    "  Given \n",
    "  $\\begin{align}\n",
    "  \\rm{radius} &= 5 \\mu m \\\\\n",
    "  \\rm{length} &= 12 \\mu m \\\\\n",
    "   g_{GABA_{\\rm{max}}} &= 500 nS\n",
    "  \\end{align}$\n",
    "\n",
    " what frequency of spikes from an interneuron (i.e. activation of $GABA_A$ synapses) causes $E_{GABA} > V_m$ within $1000 ms$.\n",
    "\n",
    " *hint: the GHK equation by itself won't work (why not?)*\n"
   ]
  },
  {
   "cell_type": "markdown",
   "id": "9284f9d1-2953-476d-8855-51de290d5804",
   "metadata": {
    "id": "E0nU8r_ej6Ik",
    "slideshow": {
     "slide_type": "subslide"
    }
   },
   "source": [
    "\n",
    "#### **1.3**\n",
    "Implement chloride extrusion\n",
    "\n",
    " $\\nu = \\frac{[Cl^-]_i - [Cl^-]_i^\\infty}{\\tau_{Cl^-}}$; where $\\nu$ is in mM/s. Do **1.2** again but with $\\tau_{Cl^-} = 3 s$ or $\\tau_{Cl^-} = 30 s$\n",
    "\n",
    "What $\\tau_{Cl^-}$ keeps $E_{GABA} < V_m$ for a 5 Hz inhibitory input?\n",
    "\n"
   ]
  },
  {
   "cell_type": "markdown",
   "id": "ce6f7911-cd26-400c-b92e-e3c9deb43651",
   "metadata": {
    "id": "NvnlAVdgscXf",
    "slideshow": {
     "slide_type": "subslide"
    }
   },
   "source": [
    "![Example solution](https://3uazqw.dm.files.1drv.com/y4mQWEZlEfWeIsKIFokTXSY-J9mt1cxv7UhzM1hTGl4h5jDWII1ggBLAUlGDOqRQ2yXxKDaNWwuRPaxD4d9k1gVL0UrOCtaVnmZYY13rkijBmafqu1U-RX6g1sOoSJkwzc1gHkNPft8cnuymDkd6-zCIbNHG5GkQOJ0nuz2CdSkOGFHKD9gzYWBDebyD5omSzCNqbgTsC5WUuFFrmdSv3UC9A?width=798&height=360&cropmode=none) - _C.B. Currin, 2020_"
   ]
  },
  {
   "cell_type": "code",
   "execution_count": null,
   "id": "9655e291-097c-4df8-800f-e6874b3a3a09",
   "metadata": {},
   "outputs": [],
   "source": []
  }
 ],
 "metadata": {
  "celltoolbar": "Slideshow",
  "kernelspec": {
   "display_name": "Python 3 (ipykernel)",
   "language": "python",
   "name": "python3"
  },
  "language_info": {
   "codemirror_mode": {
    "name": "ipython",
    "version": 3
   },
   "file_extension": ".py",
   "mimetype": "text/x-python",
   "name": "python",
   "nbconvert_exporter": "python",
   "pygments_lexer": "ipython3",
   "version": "3.11.3"
  }
 },
 "nbformat": 4,
 "nbformat_minor": 5
}
